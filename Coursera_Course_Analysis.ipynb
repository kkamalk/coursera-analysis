{
  "nbformat": 4,
  "nbformat_minor": 0,
  "metadata": {
    "colab": {
      "provenance": []
    },
    "kernelspec": {
      "name": "python3",
      "display_name": "Python 3"
    },
    "language_info": {
      "name": "python"
    }
  },
  "cells": [
    {
      "cell_type": "markdown",
      "source": [
        "**1.Coursera:**\n",
        "\n",
        "\n",
        "---\n",
        "\n",
        "\n",
        "Coursera Inc.is a U.S.-based massive open online course provider founded in 2012 by Stanford University computer science professors Andrew Ng and Daphne Koller. Coursera works with universities and other organizations to offer online courses, certifications, and degrees in a variety of subject"
      ],
      "metadata": {
        "id": "ah7932P_pwp0"
      }
    },
    {
      "cell_type": "markdown",
      "source": [
        "**1.1Dataset**\n",
        "\n",
        "---\n",
        "The dataset is taken from kaggle.com [Coursera Course Dataset.](https://www.kaggle.com/datasets/siddharthm1698/coursera-course-dataset)\n"
      ],
      "metadata": {
        "id": "N882vrOGrfIi"
      }
    },
    {
      "cell_type": "markdown",
      "source": [
        "**1.2About the Dataset**\n",
        "\n",
        "---\n",
        "\n",
        "This dataset contains mainly 6 columns and 890 course data. The detailed description:\n",
        "\n",
        "course_title : Contains the course title.\n",
        "\n",
        "course_organization : It tells which organization is conducting the courses.\n",
        "\n",
        "courseCertificatetype : It has details about what are the different certifications available in courses.\n",
        "\n",
        "course_rating : It has the ratings associated with each course.\n",
        "\n",
        "course_difficulty : It tells about how difficult or what is the level of the course.\n",
        "\n",
        "coursestudentsenrolled : It has the number of students that are enrolled in the course."
      ],
      "metadata": {
        "id": "9aTv9ZCQrfR4"
      }
    },
    {
      "cell_type": "markdown",
      "source": [
        "**1.3Aim**\n",
        "\n",
        "---\n",
        "Our project aims to help any new learner get the right course to learn by just answering a few questions.\n"
      ],
      "metadata": {
        "id": "0plg4T6zrfVk"
      }
    },
    {
      "cell_type": "markdown",
      "source": [
        "**1.4objective**\n",
        "\n",
        "---\n",
        "Practice performing basic EDA.\n",
        "\n",
        "Practice visualizing data with Matplotlib & Seaborn.\n",
        "\n",
        "Practice reading data, performing queries and filtering data using Panda\n"
      ],
      "metadata": {
        "id": "f4fsC5mYrfZe"
      }
    },
    {
      "cell_type": "markdown",
      "source": [],
      "metadata": {
        "id": "G4ab86FGrfcN"
      }
    },
    {
      "cell_type": "markdown",
      "source": [
        "**2.Data Loading**"
      ],
      "metadata": {
        "id": "kK2ZjW8DFJeP"
      }
    },
    {
      "cell_type": "code",
      "source": [
        "import pandas as pd\n",
        "import numpy as np\n",
        "import matplotlib.pyplot as plt\n",
        "import scipy.stats as sps\n",
        "import seaborn as sns\n",
        "import scipy.stats as sps\n",
        "from scipy import stats\n",
        "import warnings\n",
        "warnings.filterwarnings('ignore')\n"
      ],
      "metadata": {
        "id": "ESPtdmsXp2wU"
      },
      "execution_count": 35,
      "outputs": []
    },
    {
      "cell_type": "code",
      "source": [
        "df=pd.read_csv(\"/content/coursea_data.csv\")\n",
        "df=df.drop(\"Unnamed: 0\",axis=1)\n",
        "df.head()"
      ],
      "metadata": {
        "colab": {
          "base_uri": "https://localhost:8080/",
          "height": 513
        },
        "id": "3E5ApQVkFRwk",
        "outputId": "b7901098-3e91-4e5f-958a-bd48348aed2e"
      },
      "execution_count": 36,
      "outputs": [
        {
          "output_type": "execute_result",
          "data": {
            "text/plain": [
              "                                        course_title  \\\n",
              "0  (ISC)² Systems Security Certified Practitioner...   \n",
              "1  A Crash Course in Causality:  Inferring Causal...   \n",
              "2                     A Crash Course in Data Science   \n",
              "3                            A Law Student's Toolkit   \n",
              "4                A Life of Happiness and Fulfillment   \n",
              "\n",
              "          course_organization course_Certificate_type  course_rating  \\\n",
              "0                      (ISC)²          SPECIALIZATION            4.7   \n",
              "1  University of Pennsylvania                  COURSE            4.7   \n",
              "2    Johns Hopkins University                  COURSE            4.5   \n",
              "3             Yale University                  COURSE            4.7   \n",
              "4   Indian School of Business                  COURSE            4.8   \n",
              "\n",
              "  course_difficulty course_students_enrolled  \n",
              "0          Beginner                     5.3k  \n",
              "1      Intermediate                      17k  \n",
              "2             Mixed                     130k  \n",
              "3             Mixed                      91k  \n",
              "4             Mixed                     320k  "
            ],
            "text/html": [
              "\n",
              "  <div id=\"df-a8ffba21-5359-4b51-996a-aa547a753522\">\n",
              "    <div class=\"colab-df-container\">\n",
              "      <div>\n",
              "<style scoped>\n",
              "    .dataframe tbody tr th:only-of-type {\n",
              "        vertical-align: middle;\n",
              "    }\n",
              "\n",
              "    .dataframe tbody tr th {\n",
              "        vertical-align: top;\n",
              "    }\n",
              "\n",
              "    .dataframe thead th {\n",
              "        text-align: right;\n",
              "    }\n",
              "</style>\n",
              "<table border=\"1\" class=\"dataframe\">\n",
              "  <thead>\n",
              "    <tr style=\"text-align: right;\">\n",
              "      <th></th>\n",
              "      <th>course_title</th>\n",
              "      <th>course_organization</th>\n",
              "      <th>course_Certificate_type</th>\n",
              "      <th>course_rating</th>\n",
              "      <th>course_difficulty</th>\n",
              "      <th>course_students_enrolled</th>\n",
              "    </tr>\n",
              "  </thead>\n",
              "  <tbody>\n",
              "    <tr>\n",
              "      <th>0</th>\n",
              "      <td>(ISC)² Systems Security Certified Practitioner...</td>\n",
              "      <td>(ISC)²</td>\n",
              "      <td>SPECIALIZATION</td>\n",
              "      <td>4.7</td>\n",
              "      <td>Beginner</td>\n",
              "      <td>5.3k</td>\n",
              "    </tr>\n",
              "    <tr>\n",
              "      <th>1</th>\n",
              "      <td>A Crash Course in Causality:  Inferring Causal...</td>\n",
              "      <td>University of Pennsylvania</td>\n",
              "      <td>COURSE</td>\n",
              "      <td>4.7</td>\n",
              "      <td>Intermediate</td>\n",
              "      <td>17k</td>\n",
              "    </tr>\n",
              "    <tr>\n",
              "      <th>2</th>\n",
              "      <td>A Crash Course in Data Science</td>\n",
              "      <td>Johns Hopkins University</td>\n",
              "      <td>COURSE</td>\n",
              "      <td>4.5</td>\n",
              "      <td>Mixed</td>\n",
              "      <td>130k</td>\n",
              "    </tr>\n",
              "    <tr>\n",
              "      <th>3</th>\n",
              "      <td>A Law Student's Toolkit</td>\n",
              "      <td>Yale University</td>\n",
              "      <td>COURSE</td>\n",
              "      <td>4.7</td>\n",
              "      <td>Mixed</td>\n",
              "      <td>91k</td>\n",
              "    </tr>\n",
              "    <tr>\n",
              "      <th>4</th>\n",
              "      <td>A Life of Happiness and Fulfillment</td>\n",
              "      <td>Indian School of Business</td>\n",
              "      <td>COURSE</td>\n",
              "      <td>4.8</td>\n",
              "      <td>Mixed</td>\n",
              "      <td>320k</td>\n",
              "    </tr>\n",
              "  </tbody>\n",
              "</table>\n",
              "</div>\n",
              "      <button class=\"colab-df-convert\" onclick=\"convertToInteractive('df-a8ffba21-5359-4b51-996a-aa547a753522')\"\n",
              "              title=\"Convert this dataframe to an interactive table.\"\n",
              "              style=\"display:none;\">\n",
              "        \n",
              "  <svg xmlns=\"http://www.w3.org/2000/svg\" height=\"24px\"viewBox=\"0 0 24 24\"\n",
              "       width=\"24px\">\n",
              "    <path d=\"M0 0h24v24H0V0z\" fill=\"none\"/>\n",
              "    <path d=\"M18.56 5.44l.94 2.06.94-2.06 2.06-.94-2.06-.94-.94-2.06-.94 2.06-2.06.94zm-11 1L8.5 8.5l.94-2.06 2.06-.94-2.06-.94L8.5 2.5l-.94 2.06-2.06.94zm10 10l.94 2.06.94-2.06 2.06-.94-2.06-.94-.94-2.06-.94 2.06-2.06.94z\"/><path d=\"M17.41 7.96l-1.37-1.37c-.4-.4-.92-.59-1.43-.59-.52 0-1.04.2-1.43.59L10.3 9.45l-7.72 7.72c-.78.78-.78 2.05 0 2.83L4 21.41c.39.39.9.59 1.41.59.51 0 1.02-.2 1.41-.59l7.78-7.78 2.81-2.81c.8-.78.8-2.07 0-2.86zM5.41 20L4 18.59l7.72-7.72 1.47 1.35L5.41 20z\"/>\n",
              "  </svg>\n",
              "      </button>\n",
              "      \n",
              "  <style>\n",
              "    .colab-df-container {\n",
              "      display:flex;\n",
              "      flex-wrap:wrap;\n",
              "      gap: 12px;\n",
              "    }\n",
              "\n",
              "    .colab-df-convert {\n",
              "      background-color: #E8F0FE;\n",
              "      border: none;\n",
              "      border-radius: 50%;\n",
              "      cursor: pointer;\n",
              "      display: none;\n",
              "      fill: #1967D2;\n",
              "      height: 32px;\n",
              "      padding: 0 0 0 0;\n",
              "      width: 32px;\n",
              "    }\n",
              "\n",
              "    .colab-df-convert:hover {\n",
              "      background-color: #E2EBFA;\n",
              "      box-shadow: 0px 1px 2px rgba(60, 64, 67, 0.3), 0px 1px 3px 1px rgba(60, 64, 67, 0.15);\n",
              "      fill: #174EA6;\n",
              "    }\n",
              "\n",
              "    [theme=dark] .colab-df-convert {\n",
              "      background-color: #3B4455;\n",
              "      fill: #D2E3FC;\n",
              "    }\n",
              "\n",
              "    [theme=dark] .colab-df-convert:hover {\n",
              "      background-color: #434B5C;\n",
              "      box-shadow: 0px 1px 3px 1px rgba(0, 0, 0, 0.15);\n",
              "      filter: drop-shadow(0px 1px 2px rgba(0, 0, 0, 0.3));\n",
              "      fill: #FFFFFF;\n",
              "    }\n",
              "  </style>\n",
              "\n",
              "      <script>\n",
              "        const buttonEl =\n",
              "          document.querySelector('#df-a8ffba21-5359-4b51-996a-aa547a753522 button.colab-df-convert');\n",
              "        buttonEl.style.display =\n",
              "          google.colab.kernel.accessAllowed ? 'block' : 'none';\n",
              "\n",
              "        async function convertToInteractive(key) {\n",
              "          const element = document.querySelector('#df-a8ffba21-5359-4b51-996a-aa547a753522');\n",
              "          const dataTable =\n",
              "            await google.colab.kernel.invokeFunction('convertToInteractive',\n",
              "                                                     [key], {});\n",
              "          if (!dataTable) return;\n",
              "\n",
              "          const docLinkHtml = 'Like what you see? Visit the ' +\n",
              "            '<a target=\"_blank\" href=https://colab.research.google.com/notebooks/data_table.ipynb>data table notebook</a>'\n",
              "            + ' to learn more about interactive tables.';\n",
              "          element.innerHTML = '';\n",
              "          dataTable['output_type'] = 'display_data';\n",
              "          await google.colab.output.renderOutput(dataTable, element);\n",
              "          const docLink = document.createElement('div');\n",
              "          docLink.innerHTML = docLinkHtml;\n",
              "          element.appendChild(docLink);\n",
              "        }\n",
              "      </script>\n",
              "    </div>\n",
              "  </div>\n",
              "  "
            ]
          },
          "metadata": {},
          "execution_count": 36
        }
      ]
    },
    {
      "cell_type": "markdown",
      "source": [
        "**2.1 Basic checks**"
      ],
      "metadata": {
        "id": "RAy3Q_t3H1OC"
      }
    },
    {
      "cell_type": "code",
      "source": [
        "df.info()"
      ],
      "metadata": {
        "colab": {
          "base_uri": "https://localhost:8080/"
        },
        "id": "Aur2ufNzH3FH",
        "outputId": "7894af55-b3c9-4ecf-9fc7-6ea437acd2b6"
      },
      "execution_count": 37,
      "outputs": [
        {
          "output_type": "stream",
          "name": "stdout",
          "text": [
            "<class 'pandas.core.frame.DataFrame'>\n",
            "RangeIndex: 891 entries, 0 to 890\n",
            "Data columns (total 6 columns):\n",
            " #   Column                    Non-Null Count  Dtype  \n",
            "---  ------                    --------------  -----  \n",
            " 0   course_title              891 non-null    object \n",
            " 1   course_organization       891 non-null    object \n",
            " 2   course_Certificate_type   891 non-null    object \n",
            " 3   course_rating             891 non-null    float64\n",
            " 4   course_difficulty         891 non-null    object \n",
            " 5   course_students_enrolled  891 non-null    object \n",
            "dtypes: float64(1), object(5)\n",
            "memory usage: 41.9+ KB\n"
          ]
        }
      ]
    },
    {
      "cell_type": "code",
      "source": [
        "df.describe()"
      ],
      "metadata": {
        "colab": {
          "base_uri": "https://localhost:8080/",
          "height": 300
        },
        "id": "dANLy6PfH6rX",
        "outputId": "a163271c-f7ce-4217-fe84-478b91340782"
      },
      "execution_count": 38,
      "outputs": [
        {
          "output_type": "execute_result",
          "data": {
            "text/plain": [
              "       course_rating\n",
              "count     891.000000\n",
              "mean        4.677329\n",
              "std         0.162225\n",
              "min         3.300000\n",
              "25%         4.600000\n",
              "50%         4.700000\n",
              "75%         4.800000\n",
              "max         5.000000"
            ],
            "text/html": [
              "\n",
              "  <div id=\"df-21479bf4-42e6-4bae-8a06-2eec4dee57f7\">\n",
              "    <div class=\"colab-df-container\">\n",
              "      <div>\n",
              "<style scoped>\n",
              "    .dataframe tbody tr th:only-of-type {\n",
              "        vertical-align: middle;\n",
              "    }\n",
              "\n",
              "    .dataframe tbody tr th {\n",
              "        vertical-align: top;\n",
              "    }\n",
              "\n",
              "    .dataframe thead th {\n",
              "        text-align: right;\n",
              "    }\n",
              "</style>\n",
              "<table border=\"1\" class=\"dataframe\">\n",
              "  <thead>\n",
              "    <tr style=\"text-align: right;\">\n",
              "      <th></th>\n",
              "      <th>course_rating</th>\n",
              "    </tr>\n",
              "  </thead>\n",
              "  <tbody>\n",
              "    <tr>\n",
              "      <th>count</th>\n",
              "      <td>891.000000</td>\n",
              "    </tr>\n",
              "    <tr>\n",
              "      <th>mean</th>\n",
              "      <td>4.677329</td>\n",
              "    </tr>\n",
              "    <tr>\n",
              "      <th>std</th>\n",
              "      <td>0.162225</td>\n",
              "    </tr>\n",
              "    <tr>\n",
              "      <th>min</th>\n",
              "      <td>3.300000</td>\n",
              "    </tr>\n",
              "    <tr>\n",
              "      <th>25%</th>\n",
              "      <td>4.600000</td>\n",
              "    </tr>\n",
              "    <tr>\n",
              "      <th>50%</th>\n",
              "      <td>4.700000</td>\n",
              "    </tr>\n",
              "    <tr>\n",
              "      <th>75%</th>\n",
              "      <td>4.800000</td>\n",
              "    </tr>\n",
              "    <tr>\n",
              "      <th>max</th>\n",
              "      <td>5.000000</td>\n",
              "    </tr>\n",
              "  </tbody>\n",
              "</table>\n",
              "</div>\n",
              "      <button class=\"colab-df-convert\" onclick=\"convertToInteractive('df-21479bf4-42e6-4bae-8a06-2eec4dee57f7')\"\n",
              "              title=\"Convert this dataframe to an interactive table.\"\n",
              "              style=\"display:none;\">\n",
              "        \n",
              "  <svg xmlns=\"http://www.w3.org/2000/svg\" height=\"24px\"viewBox=\"0 0 24 24\"\n",
              "       width=\"24px\">\n",
              "    <path d=\"M0 0h24v24H0V0z\" fill=\"none\"/>\n",
              "    <path d=\"M18.56 5.44l.94 2.06.94-2.06 2.06-.94-2.06-.94-.94-2.06-.94 2.06-2.06.94zm-11 1L8.5 8.5l.94-2.06 2.06-.94-2.06-.94L8.5 2.5l-.94 2.06-2.06.94zm10 10l.94 2.06.94-2.06 2.06-.94-2.06-.94-.94-2.06-.94 2.06-2.06.94z\"/><path d=\"M17.41 7.96l-1.37-1.37c-.4-.4-.92-.59-1.43-.59-.52 0-1.04.2-1.43.59L10.3 9.45l-7.72 7.72c-.78.78-.78 2.05 0 2.83L4 21.41c.39.39.9.59 1.41.59.51 0 1.02-.2 1.41-.59l7.78-7.78 2.81-2.81c.8-.78.8-2.07 0-2.86zM5.41 20L4 18.59l7.72-7.72 1.47 1.35L5.41 20z\"/>\n",
              "  </svg>\n",
              "      </button>\n",
              "      \n",
              "  <style>\n",
              "    .colab-df-container {\n",
              "      display:flex;\n",
              "      flex-wrap:wrap;\n",
              "      gap: 12px;\n",
              "    }\n",
              "\n",
              "    .colab-df-convert {\n",
              "      background-color: #E8F0FE;\n",
              "      border: none;\n",
              "      border-radius: 50%;\n",
              "      cursor: pointer;\n",
              "      display: none;\n",
              "      fill: #1967D2;\n",
              "      height: 32px;\n",
              "      padding: 0 0 0 0;\n",
              "      width: 32px;\n",
              "    }\n",
              "\n",
              "    .colab-df-convert:hover {\n",
              "      background-color: #E2EBFA;\n",
              "      box-shadow: 0px 1px 2px rgba(60, 64, 67, 0.3), 0px 1px 3px 1px rgba(60, 64, 67, 0.15);\n",
              "      fill: #174EA6;\n",
              "    }\n",
              "\n",
              "    [theme=dark] .colab-df-convert {\n",
              "      background-color: #3B4455;\n",
              "      fill: #D2E3FC;\n",
              "    }\n",
              "\n",
              "    [theme=dark] .colab-df-convert:hover {\n",
              "      background-color: #434B5C;\n",
              "      box-shadow: 0px 1px 3px 1px rgba(0, 0, 0, 0.15);\n",
              "      filter: drop-shadow(0px 1px 2px rgba(0, 0, 0, 0.3));\n",
              "      fill: #FFFFFF;\n",
              "    }\n",
              "  </style>\n",
              "\n",
              "      <script>\n",
              "        const buttonEl =\n",
              "          document.querySelector('#df-21479bf4-42e6-4bae-8a06-2eec4dee57f7 button.colab-df-convert');\n",
              "        buttonEl.style.display =\n",
              "          google.colab.kernel.accessAllowed ? 'block' : 'none';\n",
              "\n",
              "        async function convertToInteractive(key) {\n",
              "          const element = document.querySelector('#df-21479bf4-42e6-4bae-8a06-2eec4dee57f7');\n",
              "          const dataTable =\n",
              "            await google.colab.kernel.invokeFunction('convertToInteractive',\n",
              "                                                     [key], {});\n",
              "          if (!dataTable) return;\n",
              "\n",
              "          const docLinkHtml = 'Like what you see? Visit the ' +\n",
              "            '<a target=\"_blank\" href=https://colab.research.google.com/notebooks/data_table.ipynb>data table notebook</a>'\n",
              "            + ' to learn more about interactive tables.';\n",
              "          element.innerHTML = '';\n",
              "          dataTable['output_type'] = 'display_data';\n",
              "          await google.colab.output.renderOutput(dataTable, element);\n",
              "          const docLink = document.createElement('div');\n",
              "          docLink.innerHTML = docLinkHtml;\n",
              "          element.appendChild(docLink);\n",
              "        }\n",
              "      </script>\n",
              "    </div>\n",
              "  </div>\n",
              "  "
            ]
          },
          "metadata": {},
          "execution_count": 38
        }
      ]
    },
    {
      "cell_type": "code",
      "source": [
        "df.shape"
      ],
      "metadata": {
        "colab": {
          "base_uri": "https://localhost:8080/"
        },
        "id": "vLyQ5D_aICi5",
        "outputId": "97f993e1-a7db-41cc-e8b1-4010411aea59"
      },
      "execution_count": 39,
      "outputs": [
        {
          "output_type": "execute_result",
          "data": {
            "text/plain": [
              "(891, 6)"
            ]
          },
          "metadata": {},
          "execution_count": 39
        }
      ]
    },
    {
      "cell_type": "code",
      "source": [
        "numerical_features = [feature for feature in df.columns if df[feature].dtypes!= 'O']\n",
        "print('Number of numerical variables:', len(numerical_features))"
      ],
      "metadata": {
        "colab": {
          "base_uri": "https://localhost:8080/"
        },
        "id": "tBKpeWn3LuXs",
        "outputId": "b3d894da-a810-476b-804c-d1c0d7f2ca5b"
      },
      "execution_count": 40,
      "outputs": [
        {
          "output_type": "stream",
          "name": "stdout",
          "text": [
            "Number of numerical variables: 1\n"
          ]
        }
      ]
    },
    {
      "cell_type": "code",
      "source": [
        "numerical_features"
      ],
      "metadata": {
        "colab": {
          "base_uri": "https://localhost:8080/"
        },
        "id": "UAn46C-mL7qB",
        "outputId": "bffe2173-bd63-48e2-e6a2-fe82f3738b9c"
      },
      "execution_count": 41,
      "outputs": [
        {
          "output_type": "execute_result",
          "data": {
            "text/plain": [
              "['course_rating']"
            ]
          },
          "metadata": {},
          "execution_count": 41
        }
      ]
    },
    {
      "cell_type": "code",
      "source": [
        "categorical_features = [feature for feature in df.columns if df[feature].dtypes== 'O']\n",
        "print('Number of categorical variables:', len(categorical_features))\n"
      ],
      "metadata": {
        "colab": {
          "base_uri": "https://localhost:8080/"
        },
        "id": "42Kodd40MNw0",
        "outputId": "f9f985e5-2f07-4a85-e36b-eee059df7838"
      },
      "execution_count": 42,
      "outputs": [
        {
          "output_type": "stream",
          "name": "stdout",
          "text": [
            "Number of categorical variables: 5\n"
          ]
        }
      ]
    },
    {
      "cell_type": "code",
      "source": [
        "categorical_features"
      ],
      "metadata": {
        "colab": {
          "base_uri": "https://localhost:8080/"
        },
        "id": "E3DgVeScOOjT",
        "outputId": "8626c1ec-253c-4961-c427-0981c3e8e473"
      },
      "execution_count": 43,
      "outputs": [
        {
          "output_type": "execute_result",
          "data": {
            "text/plain": [
              "['course_title',\n",
              " 'course_organization',\n",
              " 'course_Certificate_type',\n",
              " 'course_difficulty',\n",
              " 'course_students_enrolled']"
            ]
          },
          "metadata": {},
          "execution_count": 43
        }
      ]
    },
    {
      "cell_type": "code",
      "source": [],
      "metadata": {
        "id": "7yfN8F16ONoR"
      },
      "execution_count": 43,
      "outputs": []
    },
    {
      "cell_type": "markdown",
      "source": [
        "##3.Data Wrangling\n",
        "\n",
        "*   Deleting first Unnamed column\n",
        "*   Converting data into a suitable data type\n",
        "*   Hnadling Missing Values\n",
        "*   Removing Duplicates\n",
        "*   Finding Outliers\n",
        "\n",
        "\n",
        "\n",
        "\n",
        "\n",
        "\n",
        "\n",
        "\n"
      ],
      "metadata": {
        "id": "_r9i6erdQ0ek"
      }
    },
    {
      "cell_type": "markdown",
      "source": [],
      "metadata": {
        "id": "iH94CG6p4K2H"
      }
    },
    {
      "cell_type": "markdown",
      "source": [
        "***3.1 Converting Data into Suitable D type*** \n",
        "\n",
        "\n"
      ],
      "metadata": {
        "id": "1cv_wR9vRzcg"
      }
    },
    {
      "cell_type": "code",
      "source": [
        "#change k to 1000 and M to 100000 and change datatype\n",
        "df['course_students_enrolled']=df['course_students_enrolled'].replace({'k': '*1e3', 'm': '*1e6'}, regex=True).map(pd.eval).astype(int)\n",
        "df['course_students_enrolled'][:5]"
      ],
      "metadata": {
        "colab": {
          "base_uri": "https://localhost:8080/"
        },
        "id": "CS5V4hMzqH-Q",
        "outputId": "79f5c4f5-42f0-477c-c26b-aec64c2881c1"
      },
      "execution_count": 44,
      "outputs": [
        {
          "output_type": "execute_result",
          "data": {
            "text/plain": [
              "0      5300\n",
              "1     17000\n",
              "2    130000\n",
              "3     91000\n",
              "4    320000\n",
              "Name: course_students_enrolled, dtype: int64"
            ]
          },
          "metadata": {},
          "execution_count": 44
        }
      ]
    },
    {
      "cell_type": "code",
      "source": [
        "df.info()"
      ],
      "metadata": {
        "colab": {
          "base_uri": "https://localhost:8080/"
        },
        "id": "GmDs4hCaUloA",
        "outputId": "d65ba0f7-577f-4fba-9c54-ba7c063179f1"
      },
      "execution_count": 45,
      "outputs": [
        {
          "output_type": "stream",
          "name": "stdout",
          "text": [
            "<class 'pandas.core.frame.DataFrame'>\n",
            "RangeIndex: 891 entries, 0 to 890\n",
            "Data columns (total 6 columns):\n",
            " #   Column                    Non-Null Count  Dtype  \n",
            "---  ------                    --------------  -----  \n",
            " 0   course_title              891 non-null    object \n",
            " 1   course_organization       891 non-null    object \n",
            " 2   course_Certificate_type   891 non-null    object \n",
            " 3   course_rating             891 non-null    float64\n",
            " 4   course_difficulty         891 non-null    object \n",
            " 5   course_students_enrolled  891 non-null    int64  \n",
            "dtypes: float64(1), int64(1), object(4)\n",
            "memory usage: 41.9+ KB\n"
          ]
        }
      ]
    },
    {
      "cell_type": "markdown",
      "source": [
        "made some changes to the course_students_enrolled and converted into numeric\n",
        "\n",
        "---\n",
        "\n",
        "Finally, The dataset contains 4 cagtegorical features, that is course title, difficulty level, organization providing the course and types of certification and 2 numeric Data types such as course_rating and course_students_enrolled"
      ],
      "metadata": {
        "id": "3eJ9cXvUUoA_"
      }
    },
    {
      "cell_type": "markdown",
      "source": [
        "**3.2 Handling Missing Values**"
      ],
      "metadata": {
        "id": "iRJ06_7bXTG5"
      }
    },
    {
      "cell_type": "code",
      "source": [
        "features_with_na=[features for features in df.columns if df[features].isnull().sum()>1]\n",
        "for feature in features_with_na:\n",
        "    print(feature, np.round(df[feature].isnull().mean(),4), ' % missing values')"
      ],
      "metadata": {
        "id": "pkEtq72FXh0y"
      },
      "execution_count": 46,
      "outputs": []
    },
    {
      "cell_type": "markdown",
      "source": [
        "The students enrolled got misssing values about 0.01 percentage"
      ],
      "metadata": {
        "id": "vteEtacpY-72"
      }
    },
    {
      "cell_type": "code",
      "source": [
        "# filling missing values with mean\n",
        "median_value=df['course_students_enrolled'].median()\n",
        "\n",
        "df['course_students_enrolled'].fillna(value=median_value, inplace=True)"
      ],
      "metadata": {
        "id": "hkYGcg6z02hp"
      },
      "execution_count": 47,
      "outputs": []
    },
    {
      "cell_type": "code",
      "source": [
        "features_with_na"
      ],
      "metadata": {
        "colab": {
          "base_uri": "https://localhost:8080/"
        },
        "id": "S38c9Fl40_tK",
        "outputId": "7481af7c-6900-4dcb-dcf4-9eeff25c291b"
      },
      "execution_count": 48,
      "outputs": [
        {
          "output_type": "execute_result",
          "data": {
            "text/plain": [
              "[]"
            ]
          },
          "metadata": {},
          "execution_count": 48
        }
      ]
    },
    {
      "cell_type": "markdown",
      "source": [
        "all the misssing values are filled "
      ],
      "metadata": {
        "id": "xQpj5iug30fT"
      }
    },
    {
      "cell_type": "markdown",
      "source": [
        "**3.2 Removing Duplicates**"
      ],
      "metadata": {
        "id": "Cu-H5Lpe4NaN"
      }
    },
    {
      "cell_type": "code",
      "source": [
        "df.duplicated().sum()\n"
      ],
      "metadata": {
        "colab": {
          "base_uri": "https://localhost:8080/"
        },
        "id": "DwZtEucu4Qpg",
        "outputId": "92cbf9e8-a695-4e02-a746-fe8058b3a90a"
      },
      "execution_count": 49,
      "outputs": [
        {
          "output_type": "execute_result",
          "data": {
            "text/plain": [
              "0"
            ]
          },
          "metadata": {},
          "execution_count": 49
        }
      ]
    },
    {
      "cell_type": "markdown",
      "source": [
        "The Dataset has no duplicated values"
      ],
      "metadata": {
        "id": "yNQYnT5Q4cX1"
      }
    },
    {
      "cell_type": "markdown",
      "source": [
        "**3.3 Finding Outliers**\n",
        "\n",
        "---\n",
        "\n",
        "Outliers are measure that significantly differ from other data points. For this method the following two techniques are used to detect outliers\n",
        "\n",
        "Interquartile Range(IQR)\n",
        "\n",
        "visualization with Box Plot\n",
        "\n",
        "IQR is a measure of statistical dispersion.\n",
        "\n",
        "\n",
        "IQR=Q3−Q1"
      ],
      "metadata": {
        "id": "JEnFk-GI4qQ-"
      }
    },
    {
      "cell_type": "code",
      "source": [
        "#q1, and q3 represents 25th and 75th percentile respectively\n",
        "q1 = df.quantile(0.25)\n",
        "q3 = df.quantile(0.75)\n"
      ],
      "metadata": {
        "id": "mlw71qCL5cbw"
      },
      "execution_count": 50,
      "outputs": []
    },
    {
      "cell_type": "code",
      "source": [
        "#determine iqr\n",
        "iqr =  q3 - q1\n",
        "lower_bound = q1 - (1.5 * iqr)\n",
        "upper_bound = q3 + (1.5 * iqr)"
      ],
      "metadata": {
        "id": "qrS-afFD_jbk"
      },
      "execution_count": 51,
      "outputs": []
    },
    {
      "cell_type": "code",
      "source": [
        "#determining the lower bound\n",
        "\n",
        "lower_bound"
      ],
      "metadata": {
        "colab": {
          "base_uri": "https://localhost:8080/"
        },
        "id": "pyuFNJvZBj2O",
        "outputId": "cab61254-8bb2-4006-c66f-206647ea6364"
      },
      "execution_count": 52,
      "outputs": [
        {
          "output_type": "execute_result",
          "data": {
            "text/plain": [
              "course_rating                    4.3\n",
              "course_students_enrolled   -105500.0\n",
              "dtype: float64"
            ]
          },
          "metadata": {},
          "execution_count": 52
        }
      ]
    },
    {
      "cell_type": "code",
      "source": [
        "#determining the upper bound\n",
        "upper_bound"
      ],
      "metadata": {
        "colab": {
          "base_uri": "https://localhost:8080/"
        },
        "id": "7bPoCP76BxUP",
        "outputId": "c2d871e5-0fcc-4343-85b1-5198e7f81d72"
      },
      "execution_count": 53,
      "outputs": [
        {
          "output_type": "execute_result",
          "data": {
            "text/plain": [
              "course_rating                    5.1\n",
              "course_students_enrolled    222500.0\n",
              "dtype: float64"
            ]
          },
          "metadata": {},
          "execution_count": 53
        }
      ]
    },
    {
      "cell_type": "code",
      "source": [
        "data_ol= ((df < (q1 - 1.5 * iqr)) |(df> (q3 + 1.5 * iqr)))\n",
        "data_ol[data_ol == True].count()\n"
      ],
      "metadata": {
        "colab": {
          "base_uri": "https://localhost:8080/"
        },
        "id": "LWzAqCnJCwmc",
        "outputId": "151bd752-8869-413d-fe8e-edf6806d72b3"
      },
      "execution_count": 54,
      "outputs": [
        {
          "output_type": "execute_result",
          "data": {
            "text/plain": [
              "course_Certificate_type      0\n",
              "course_difficulty            0\n",
              "course_organization          0\n",
              "course_rating               17\n",
              "course_students_enrolled    78\n",
              "course_title                 0\n",
              "dtype: int64"
            ]
          },
          "metadata": {},
          "execution_count": 54
        }
      ]
    },
    {
      "cell_type": "markdown",
      "source": [
        "In the above graph, can clearly see the outliers in course_rating and the course_students_enrolled \n"
      ],
      "metadata": {
        "id": "AeYRdyq2VI8o"
      }
    },
    {
      "cell_type": "code",
      "source": [
        "\n",
        "\n",
        "def box_plot(plot_type:str, data:pd.DataFrame, feature:str,title:str,label:str,label2:str=''):\n",
        "                      \n",
        "                    \n",
        "    ax = None\n",
        "    plt.figure(figsize=(8,5))\n",
        "    plt.boxplot(data =data , x = feature)\n",
        "    plt.xlabel(label2)\n",
        "    plt.ylabel(label)\n",
        "    plt.title(title)\n",
        "   \n",
        "    if ax is not None:\n",
        "        for t in ax.patches:\n",
        "            percentage = '{:.2f}%'.format(100 * p.get_height()/len(data))\n",
        "            x = t.get_x() + p.get_width() - 0.5\n",
        "            y =t.get_height() + 0.1\n",
        "            ax.annotate(percentage, (x, y))\n",
        "    plt.show()"
      ],
      "metadata": {
        "id": "RB-jR6156pkp"
      },
      "execution_count": 55,
      "outputs": []
    },
    {
      "cell_type": "markdown",
      "source": [
        "Box plots are useful as they show outliers within a data set. An outlier is an observation that is numerically distant from the rest of the data. When reviewing a box plot, an outlier is defined as a data point that is located outside the whiskers of the box plot.\n"
      ],
      "metadata": {
        "id": "iTkwOz5bFihZ"
      }
    },
    {
      "cell_type": "code",
      "source": [
        "box_plot('boxplot', df, 'course_rating', 'course rating', 'Ratings')\n",
        "box_plot('boxplot', df, 'course_students_enrolled','course_students_enrolled', 'Enrolled students')"
      ],
      "metadata": {
        "colab": {
          "base_uri": "https://localhost:8080/",
          "height": 659
        },
        "id": "upVLOmWR6sHQ",
        "outputId": "100c84d7-ac09-4ba6-ce93-0d76ad3dee2d"
      },
      "execution_count": 56,
      "outputs": [
        {
          "output_type": "display_data",
          "data": {
            "text/plain": [
              "<Figure size 576x360 with 1 Axes>"
            ],
            "image/png": "[encoded data removed]"
          },
          "metadata": {}
        },
        {
          "output_type": "display_data",
          "data": {
            "text/plain": [
              "<Figure size 576x360 with 1 Axes>"
            ],
            "image/png": "[encoded data removed]"
          },
          "metadata": {}
        }
      ]
    },
    {
      "cell_type": "code",
      "source": [
        "# removig the outliers\n",
        "data_ol=df[~((df<(q1-1.5*iqr)) | (df>(q3+1.5*iqr))).any(axis=1)]"
      ],
      "metadata": {
        "id": "cSjUpbX1h3mW"
      },
      "execution_count": 57,
      "outputs": []
    },
    {
      "cell_type": "code",
      "source": [
        "\n",
        "\n",
        "data_ol = ((data_ol< (q1 - 1.5 * iqr)) |(data_ol> (q3 + 1.5 * iqr)))\n",
        "print(data_ol[data_ol == True].count())\n",
        "print('the Original shape of the Dataset:',df.shape)\n",
        "\n",
        "print('the Dataset after outlier detection:',data_ol.shape)\n",
        "\n",
        "\n"
      ],
      "metadata": {
        "colab": {
          "base_uri": "https://localhost:8080/"
        },
        "id": "K8TivfUVDcCt",
        "outputId": "062a889e-8f8d-4f17-dd58-9c7457550091"
      },
      "execution_count": 58,
      "outputs": [
        {
          "output_type": "stream",
          "name": "stdout",
          "text": [
            "course_Certificate_type     0\n",
            "course_difficulty           0\n",
            "course_organization         0\n",
            "course_rating               0\n",
            "course_students_enrolled    0\n",
            "course_title                0\n",
            "dtype: int64\n",
            "the Original shape of the Dataset: (891, 6)\n",
            "the Dataset after outlier detection: (797, 6)\n"
          ]
        }
      ]
    },
    {
      "cell_type": "markdown",
      "source": [
        "The outliers has been removed and the difference will be seen before and after removing the dataset shape.\n"
      ],
      "metadata": {
        "id": "QYp5Er56GODn"
      }
    },
    {
      "cell_type": "markdown",
      "source": [
        "## 3. Exploratory Data Analysis."
      ],
      "metadata": {
        "id": "TQ8MglZCa-eg"
      }
    },
    {
      "cell_type": "markdown",
      "source": [
        "Exploratory data analysis (EDA) is used to analyze and investigate data sets and summarize their main characteristics, often employing data visualization methods\n",
        "\n",
        "---\n",
        "\n",
        "\n"
      ],
      "metadata": {
        "id": "Mjoh3U6qXT46"
      }
    },
    {
      "cell_type": "markdown",
      "source": [
        "**3.1 Course Rating**"
      ],
      "metadata": {
        "id": "lCbGR6c6hcHR"
      }
    },
    {
      "cell_type": "code",
      "source": [
        "sns.set(rc={'figure.figsize':(10,4)})\n",
        "r=sns.distplot(df['course_rating'],color='red',label=\"label 1\")\n",
        "r.axes.set_title(\"\\ncourse Rating Distribution\",fontsize=25)"
      ],
      "metadata": {
        "id": "qacPJFS2S3P1",
        "colab": {
          "base_uri": "https://localhost:8080/",
          "height": 355
        },
        "outputId": "85c184f8-d1c7-44a8-b443-5d983f4eb16c"
      },
      "execution_count": 59,
      "outputs": [
        {
          "output_type": "execute_result",
          "data": {
            "text/plain": [
              "Text(0.5, 1.0, '\\ncourse Rating Distribution')"
            ]
          },
          "metadata": {},
          "execution_count": 59
        },
        {
          "output_type": "display_data",
          "data": {
            "text/plain": [
              "<Figure size 720x288 with 1 Axes>"
            ],
            "image/png": "[encoded data removed]"
          },
          "metadata": {}
        }
      ]
    },
    {
      "cell_type": "markdown",
      "source": [
        "***Findings:***\n",
        "\n",
        "Average course rating is quite higher, compared to lowest and maximum value.\n"
      ],
      "metadata": {
        "id": "Y3MUYryGjIq-"
      }
    },
    {
      "cell_type": "markdown",
      "source": [
        "**3.2 Certification Types**"
      ],
      "metadata": {
        "id": "VBRkrAhwjev4"
      }
    },
    {
      "cell_type": "code",
      "source": [
        "#using count plot to see most popular certification types\n",
        "sns.set(rc={'figure.figsize':(10,4)})\n",
        "ax = sns.countplot(data = df, x = 'course_Certificate_type')\n",
        "ax.axes.set_title(\"\\nCertification\\n\",fontsize=25)\n",
        "\n",
        "for k in ax.patches:\n",
        "            percentage = '{:.1f}%'.format(100 * k.get_height()/len(df))\n",
        "            x = k.get_x() \n",
        "            y = k.get_height()\n",
        "            ax.annotate(percentage, (x, y))\n",
        "plt.show()\n",
        "\n",
        "\n"
      ],
      "metadata": {
        "colab": {
          "base_uri": "https://localhost:8080/",
          "height": 365
        },
        "id": "ey8jBUuqjo9b",
        "outputId": "afd39a3a-6973-4c8a-ebc4-244ac0ccea34"
      },
      "execution_count": 60,
      "outputs": [
        {
          "output_type": "display_data",
          "data": {
            "text/plain": [
              "<Figure size 720x288 with 1 Axes>"
            ],
            "image/png": "[encoded data removed]"
          },
          "metadata": {}
        }
      ]
    },
    {
      "cell_type": "markdown",
      "source": [
        "***Findings:***\n",
        "\n",
        "The above plot conveys that normal course certificates are more popular than professional and specialization certificates.\n"
      ],
      "metadata": {
        "id": "_Qoq7G5spdcX"
      }
    },
    {
      "cell_type": "markdown",
      "source": [
        "**3.3 Course Difficulty**"
      ],
      "metadata": {
        "id": "Eteo2Agjr5Gq"
      }
    },
    {
      "cell_type": "code",
      "source": [
        "sns.set(rc={'figure.figsize':(10,6)})\n",
        "ax = sns.countplot( x=\"course_difficulty\",data=df,palette=\"bright\")\n",
        "ax.axes.set_title(\"\\nFrequency Distribution based on difficulty\",fontsize=25)\n",
        "\n",
        "\n",
        "for k in ax.patches:\n",
        "            percentage = '{:.1f}%'.format(100 * k.get_height()/len(df))\n",
        "            x = k.get_x() \n",
        "            y = k.get_height()\n",
        "            ax.annotate(percentage, (x, y))\n",
        "plt.show()\n"
      ],
      "metadata": {
        "colab": {
          "base_uri": "https://localhost:8080/",
          "height": 446
        },
        "id": "Efyx75LrsHsP",
        "outputId": "12e52ed8-de2b-43dd-eac6-fe56d7baee6d"
      },
      "execution_count": 61,
      "outputs": [
        {
          "output_type": "display_data",
          "data": {
            "text/plain": [
              "<Figure size 720x432 with 1 Axes>"
            ],
            "image/png": "[encoded data removed]"
          },
          "metadata": {}
        }
      ]
    },
    {
      "cell_type": "markdown",
      "source": [
        "***Findings***\n",
        "\n",
        "In the above chart we can clearly see that , the beginner level courses are most popular in online studies with about 55%\n",
        "\n",
        "\n"
      ],
      "metadata": {
        "id": "uopoViRPwC8c"
      }
    },
    {
      "cell_type": "markdown",
      "source": [
        "**3.4 Ratings based on course difficulty**"
      ],
      "metadata": {
        "id": "2ILkh_kLwscg"
      }
    },
    {
      "cell_type": "code",
      "source": [
        "sns.set(rc={'figure.figsize':(20,10)})\n",
        "ax = sns.countplot(hue=\"course_rating\", x=\"course_difficulty\", data=df,palette=\"bright\")\n",
        "ax.axes.set_title(\"\\n Rating based on difficulty\\n\",fontsize=20)\n"
      ],
      "metadata": {
        "colab": {
          "base_uri": "https://localhost:8080/",
          "height": 514
        },
        "id": "ygO4HBP0w3B-",
        "outputId": "286fa725-5ad8-4b52-d22d-bce969d93f47"
      },
      "execution_count": 62,
      "outputs": [
        {
          "output_type": "execute_result",
          "data": {
            "text/plain": [
              "Text(0.5, 1.0, '\\n Rating based on difficulty\\n')"
            ]
          },
          "metadata": {},
          "execution_count": 62
        },
        {
          "output_type": "display_data",
          "data": {
            "text/plain": [
              "<Figure size 1440x720 with 1 Axes>"
            ],
            "image/png": "[encoded data removed]"
          },
          "metadata": {}
        }
      ]
    },
    {
      "cell_type": "markdown",
      "source": [
        "***Findings:***\n",
        "\n",
        "Advanced courses' ratings are low due to may be less enrollments \n",
        "\n",
        "Beginner course is most popular and got maximum ratings due to high frequency\n",
        "\n",
        "Intermidiate course's and Mixed course's ratings indicate few people who wants upgrade their skills will be joining and the ratings are above average it may due to the size of enrollment\n",
        "\n",
        "\n"
      ],
      "metadata": {
        "id": "2TgfAIkXx6Ym"
      }
    },
    {
      "cell_type": "markdown",
      "source": [
        "**3.5 Course difficulty based on certification**"
      ],
      "metadata": {
        "id": "lUk5oBW8K2bl"
      }
    },
    {
      "cell_type": "code",
      "source": [
        "sns.set(rc={'figure.figsize':(10,5)})\n",
        "ax = sns.countplot(hue=\"course_difficulty\", x=\"course_Certificate_type\", data=df,palette=\"hls\")\n",
        "ax.axes.set_title(\"\\n Course type distribution\\n\",fontsize=20)"
      ],
      "metadata": {
        "colab": {
          "base_uri": "https://localhost:8080/",
          "height": 421
        },
        "id": "2kh5Jg7YzP4j",
        "outputId": "cbe288d4-d0c3-4ddc-d7a3-55e8b84f3f58"
      },
      "execution_count": 63,
      "outputs": [
        {
          "output_type": "execute_result",
          "data": {
            "text/plain": [
              "Text(0.5, 1.0, '\\n Course type distribution\\n')"
            ]
          },
          "metadata": {},
          "execution_count": 63
        },
        {
          "output_type": "display_data",
          "data": {
            "text/plain": [
              "<Figure size 720x360 with 1 Axes>"
            ],
            "image/png": "[encoded data removed]"
          },
          "metadata": {}
        }
      ]
    },
    {
      "cell_type": "markdown",
      "source": [
        "***Findings:***\n",
        "\n",
        "Mixed - Course has a right skewed distribution and most popular is beginner level"
      ],
      "metadata": {
        "id": "tqvCB1hjNCdg"
      }
    },
    {
      "cell_type": "markdown",
      "source": [
        "***3.6 Top Course Providers***"
      ],
      "metadata": {
        "id": "jDFqO4R_ZF7V"
      }
    },
    {
      "cell_type": "code",
      "source": [
        "#Top 10 organizations based on courses offered\n",
        "Ten_org = pd.DataFrame(df['course_organization'].value_counts()).head(10)\n",
        "\n",
        "sns.barplot(x = Ten_org.index, y = Ten_org['course_organization'],palette='icefire')\n",
        "\n",
        "labels =Ten_org.index.tolist()\n",
        "plt.gcf().set_size_inches(15,7)\n",
        "\n",
        "plt.title('Top 10 Course Providers', fontsize = 20)\n",
        "plt.xlabel('Organization', fontsize = 15)\n",
        "plt.ylabel('courses offered', fontsize = 15)\n",
        "\n",
        "plt.xticks(np.arange(10) ,labels =labels,rotation = 90)\n",
        "plt.show()"
      ],
      "metadata": {
        "colab": {
          "base_uri": "https://localhost:8080/",
          "height": 668
        },
        "id": "K-edbOQYvnYC",
        "outputId": "d508f078-fc7b-48bc-f26e-7235ba00f045"
      },
      "execution_count": 64,
      "outputs": [
        {
          "output_type": "display_data",
          "data": {
            "text/plain": [
              "<Figure size 1080x504 with 1 Axes>"
            ],
            "image/png": "[encoded data removed]"
          },
          "metadata": {}
        }
      ]
    },
    {
      "cell_type": "markdown",
      "source": [
        "***Findings***\n",
        "\n",
        "University of Pennslyvania produces largest number of courses offered on coursera."
      ],
      "metadata": {
        "id": "k1deakroYv4p"
      }
    },
    {
      "cell_type": "markdown",
      "source": [
        "**3.7 Most Popular Course providers**"
      ],
      "metadata": {
        "id": "TIkwNd8PZDF8"
      }
    },
    {
      "cell_type": "code",
      "source": [
        "student_enrol= pd.DataFrame(df.groupby('course_organization')['course_students_enrolled'].sum())\n",
        "\n",
        "pd.DataFrame(student_enrol.sort_values(by='course_students_enrolled',ascending = False)).head(10)"
      ],
      "metadata": {
        "colab": {
          "base_uri": "https://localhost:8080/",
          "height": 394
        },
        "id": "eCfkEInBelRx",
        "outputId": "3cf99fcd-6dc4-4c00-8426-404e6291daa1"
      },
      "execution_count": 65,
      "outputs": [
        {
          "output_type": "execute_result",
          "data": {
            "text/plain": [
              "                                  course_students_enrolled\n",
              "course_organization                                       \n",
              "University of Michigan                             7437700\n",
              "University of Pennsylvania                         5501300\n",
              "Stanford University                                4854000\n",
              "University of California, Irvine                   4326000\n",
              "Johns Hopkins University                           4298900\n",
              "Duke University                                    3967600\n",
              "Yale University                                    3952000\n",
              "IBM                                                2956400\n",
              "deeplearning.ai                                    2863400\n",
              "Google Cloud                                       2604300"
            ],
            "text/html": [
              "\n",
              "  <div id=\"df-29c0b21d-afe5-4447-ba90-74025297c0e5\">\n",
              "    <div class=\"colab-df-container\">\n",
              "      <div>\n",
              "<style scoped>\n",
              "    .dataframe tbody tr th:only-of-type {\n",
              "        vertical-align: middle;\n",
              "    }\n",
              "\n",
              "    .dataframe tbody tr th {\n",
              "        vertical-align: top;\n",
              "    }\n",
              "\n",
              "    .dataframe thead th {\n",
              "        text-align: right;\n",
              "    }\n",
              "</style>\n",
              "<table border=\"1\" class=\"dataframe\">\n",
              "  <thead>\n",
              "    <tr style=\"text-align: right;\">\n",
              "      <th></th>\n",
              "      <th>course_students_enrolled</th>\n",
              "    </tr>\n",
              "    <tr>\n",
              "      <th>course_organization</th>\n",
              "      <th></th>\n",
              "    </tr>\n",
              "  </thead>\n",
              "  <tbody>\n",
              "    <tr>\n",
              "      <th>University of Michigan</th>\n",
              "      <td>7437700</td>\n",
              "    </tr>\n",
              "    <tr>\n",
              "      <th>University of Pennsylvania</th>\n",
              "      <td>5501300</td>\n",
              "    </tr>\n",
              "    <tr>\n",
              "      <th>Stanford University</th>\n",
              "      <td>4854000</td>\n",
              "    </tr>\n",
              "    <tr>\n",
              "      <th>University of California, Irvine</th>\n",
              "      <td>4326000</td>\n",
              "    </tr>\n",
              "    <tr>\n",
              "      <th>Johns Hopkins University</th>\n",
              "      <td>4298900</td>\n",
              "    </tr>\n",
              "    <tr>\n",
              "      <th>Duke University</th>\n",
              "      <td>3967600</td>\n",
              "    </tr>\n",
              "    <tr>\n",
              "      <th>Yale University</th>\n",
              "      <td>3952000</td>\n",
              "    </tr>\n",
              "    <tr>\n",
              "      <th>IBM</th>\n",
              "      <td>2956400</td>\n",
              "    </tr>\n",
              "    <tr>\n",
              "      <th>deeplearning.ai</th>\n",
              "      <td>2863400</td>\n",
              "    </tr>\n",
              "    <tr>\n",
              "      <th>Google Cloud</th>\n",
              "      <td>2604300</td>\n",
              "    </tr>\n",
              "  </tbody>\n",
              "</table>\n",
              "</div>\n",
              "      <button class=\"colab-df-convert\" onclick=\"convertToInteractive('df-29c0b21d-afe5-4447-ba90-74025297c0e5')\"\n",
              "              title=\"Convert this dataframe to an interactive table.\"\n",
              "              style=\"display:none;\">\n",
              "        \n",
              "  <svg xmlns=\"http://www.w3.org/2000/svg\" height=\"24px\"viewBox=\"0 0 24 24\"\n",
              "       width=\"24px\">\n",
              "    <path d=\"M0 0h24v24H0V0z\" fill=\"none\"/>\n",
              "    <path d=\"M18.56 5.44l.94 2.06.94-2.06 2.06-.94-2.06-.94-.94-2.06-.94 2.06-2.06.94zm-11 1L8.5 8.5l.94-2.06 2.06-.94-2.06-.94L8.5 2.5l-.94 2.06-2.06.94zm10 10l.94 2.06.94-2.06 2.06-.94-2.06-.94-.94-2.06-.94 2.06-2.06.94z\"/><path d=\"M17.41 7.96l-1.37-1.37c-.4-.4-.92-.59-1.43-.59-.52 0-1.04.2-1.43.59L10.3 9.45l-7.72 7.72c-.78.78-.78 2.05 0 2.83L4 21.41c.39.39.9.59 1.41.59.51 0 1.02-.2 1.41-.59l7.78-7.78 2.81-2.81c.8-.78.8-2.07 0-2.86zM5.41 20L4 18.59l7.72-7.72 1.47 1.35L5.41 20z\"/>\n",
              "  </svg>\n",
              "      </button>\n",
              "      \n",
              "  <style>\n",
              "    .colab-df-container {\n",
              "      display:flex;\n",
              "      flex-wrap:wrap;\n",
              "      gap: 12px;\n",
              "    }\n",
              "\n",
              "    .colab-df-convert {\n",
              "      background-color: #E8F0FE;\n",
              "      border: none;\n",
              "      border-radius: 50%;\n",
              "      cursor: pointer;\n",
              "      display: none;\n",
              "      fill: #1967D2;\n",
              "      height: 32px;\n",
              "      padding: 0 0 0 0;\n",
              "      width: 32px;\n",
              "    }\n",
              "\n",
              "    .colab-df-convert:hover {\n",
              "      background-color: #E2EBFA;\n",
              "      box-shadow: 0px 1px 2px rgba(60, 64, 67, 0.3), 0px 1px 3px 1px rgba(60, 64, 67, 0.15);\n",
              "      fill: #174EA6;\n",
              "    }\n",
              "\n",
              "    [theme=dark] .colab-df-convert {\n",
              "      background-color: #3B4455;\n",
              "      fill: #D2E3FC;\n",
              "    }\n",
              "\n",
              "    [theme=dark] .colab-df-convert:hover {\n",
              "      background-color: #434B5C;\n",
              "      box-shadow: 0px 1px 3px 1px rgba(0, 0, 0, 0.15);\n",
              "      filter: drop-shadow(0px 1px 2px rgba(0, 0, 0, 0.3));\n",
              "      fill: #FFFFFF;\n",
              "    }\n",
              "  </style>\n",
              "\n",
              "      <script>\n",
              "        const buttonEl =\n",
              "          document.querySelector('#df-29c0b21d-afe5-4447-ba90-74025297c0e5 button.colab-df-convert');\n",
              "        buttonEl.style.display =\n",
              "          google.colab.kernel.accessAllowed ? 'block' : 'none';\n",
              "\n",
              "        async function convertToInteractive(key) {\n",
              "          const element = document.querySelector('#df-29c0b21d-afe5-4447-ba90-74025297c0e5');\n",
              "          const dataTable =\n",
              "            await google.colab.kernel.invokeFunction('convertToInteractive',\n",
              "                                                     [key], {});\n",
              "          if (!dataTable) return;\n",
              "\n",
              "          const docLinkHtml = 'Like what you see? Visit the ' +\n",
              "            '<a target=\"_blank\" href=https://colab.research.google.com/notebooks/data_table.ipynb>data table notebook</a>'\n",
              "            + ' to learn more about interactive tables.';\n",
              "          element.innerHTML = '';\n",
              "          dataTable['output_type'] = 'display_data';\n",
              "          await google.colab.output.renderOutput(dataTable, element);\n",
              "          const docLink = document.createElement('div');\n",
              "          docLink.innerHTML = docLinkHtml;\n",
              "          element.appendChild(docLink);\n",
              "        }\n",
              "      </script>\n",
              "    </div>\n",
              "  </div>\n",
              "  "
            ]
          },
          "metadata": {},
          "execution_count": 65
        }
      ]
    },
    {
      "cell_type": "markdown",
      "source": [
        "**Findings**\n",
        "\n",
        "top 10 providers of coursera according to the student enrollments."
      ],
      "metadata": {
        "id": "-j6SPaWfr5Ur"
      }
    },
    {
      "cell_type": "markdown",
      "source": [
        "**3.8 Enrolment based on rating**"
      ],
      "metadata": {
        "id": "RCGVNOfajIOb"
      }
    },
    {
      "cell_type": "code",
      "source": [
        "rating = df.groupby('course_rating')['course_students_enrolled'].sum().sort_values()\n",
        "fig, ax = plt.subplots(figsize=(12, 4))\n",
        "sns.barplot(x = rating.index, y = rating)\n",
        "plt.show()"
      ],
      "metadata": {
        "colab": {
          "base_uri": "https://localhost:8080/",
          "height": 296
        },
        "id": "hQI0acd5e3jd",
        "outputId": "17255ae5-3c39-4567-e53c-ff4ca62b21f6"
      },
      "execution_count": 78,
      "outputs": [
        {
          "output_type": "display_data",
          "data": {
            "text/plain": [
              "<Figure size 864x288 with 1 Axes>"
            ],
            "image/png": "[encoded data removed]"
          },
          "metadata": {}
        }
      ]
    },
    {
      "cell_type": "markdown",
      "source": [
        "**Findings**\n",
        "\n",
        "The ratings playing an important role for student to choose the courses on the platform\n"
      ],
      "metadata": {
        "id": "0lKLmWJIjbFn"
      }
    },
    {
      "cell_type": "markdown",
      "source": [
        "**3.9 Popular Courses with rating**"
      ],
      "metadata": {
        "id": "e3TaPkwts-oB"
      }
    },
    {
      "cell_type": "code",
      "source": [
        "#Top 10 courses based on rating\n",
        "popular_course=df[['course_organization','course_title','course_rating']]\n",
        "top_courses = popular_course.nlargest(10,['course_rating'])\n",
        "sns.barplot(y = top_courses['course_title'], x = top_courses['course_rating'],orient='h',palette='icefire')\n",
        "plt.xticks(rotation = 90)"
      ],
      "metadata": {
        "colab": {
          "base_uri": "https://localhost:8080/",
          "height": 261
        },
        "id": "7dR4V6TL0tbY",
        "outputId": "252a2f09-7d52-46dd-aa2f-dda814bc546b"
      },
      "execution_count": 69,
      "outputs": [
        {
          "output_type": "execute_result",
          "data": {
            "text/plain": [
              "(array([0., 1., 2., 3., 4., 5., 6.]),\n",
              " <a list of 7 Text major ticklabel objects>)"
            ]
          },
          "metadata": {},
          "execution_count": 69
        },
        {
          "output_type": "display_data",
          "data": {
            "text/plain": [
              "<Figure size 720x360 with 1 Axes>"
            ],
            "image/png": "[encoded data removed]"
          },
          "metadata": {}
        }
      ]
    },
    {
      "cell_type": "code",
      "source": [
        "top_courses"
      ],
      "metadata": {
        "colab": {
          "base_uri": "https://localhost:8080/",
          "height": 363
        },
        "id": "dyPX3OzqDdAg",
        "outputId": "6e2ade5b-1edc-4861-d1c4-1c2643c4a76c"
      },
      "execution_count": 70,
      "outputs": [
        {
          "output_type": "execute_result",
          "data": {
            "text/plain": [
              "                    course_organization  \\\n",
              "251                 Universidad Austral   \n",
              "432             Imperial College London   \n",
              "36                            ScrumTrek   \n",
              "40                      Yale University   \n",
              "61   University of California San Diego   \n",
              "65             Arizona State University   \n",
              "70               University of Virginia   \n",
              "82            Google - Spectrum Sharing   \n",
              "98                            HEC Paris   \n",
              "99               London Business School   \n",
              "\n",
              "                                          course_title  course_rating  \n",
              "251  El Abogado del Futuro: Legaltech y la Transfor...            5.0  \n",
              "432                       Infectious Disease Modelling            5.0  \n",
              "36   Agile и Scrum в работе над проектами и продуктами            4.9  \n",
              "40                             American Contract Law I            4.9  \n",
              "61   Aprendiendo a aprender: Poderosas herramientas...            4.9  \n",
              "65                      Arizona State University TESOL            4.9  \n",
              "70   Aspectos básicos de la planificación y la gest...            4.9  \n",
              "82   Become a CBRS Certified Professional Installer...            4.9  \n",
              "98                  Boosting Creativity for Innovation            4.9  \n",
              "99   Brand Management: Aligning Business, Brand and...            4.9  "
            ],
            "text/html": [
              "\n",
              "  <div id=\"df-05f72977-5613-4131-a771-6804a637f28b\">\n",
              "    <div class=\"colab-df-container\">\n",
              "      <div>\n",
              "<style scoped>\n",
              "    .dataframe tbody tr th:only-of-type {\n",
              "        vertical-align: middle;\n",
              "    }\n",
              "\n",
              "    .dataframe tbody tr th {\n",
              "        vertical-align: top;\n",
              "    }\n",
              "\n",
              "    .dataframe thead th {\n",
              "        text-align: right;\n",
              "    }\n",
              "</style>\n",
              "<table border=\"1\" class=\"dataframe\">\n",
              "  <thead>\n",
              "    <tr style=\"text-align: right;\">\n",
              "      <th></th>\n",
              "      <th>course_organization</th>\n",
              "      <th>course_title</th>\n",
              "      <th>course_rating</th>\n",
              "    </tr>\n",
              "  </thead>\n",
              "  <tbody>\n",
              "    <tr>\n",
              "      <th>251</th>\n",
              "      <td>Universidad Austral</td>\n",
              "      <td>El Abogado del Futuro: Legaltech y la Transfor...</td>\n",
              "      <td>5.0</td>\n",
              "    </tr>\n",
              "    <tr>\n",
              "      <th>432</th>\n",
              "      <td>Imperial College London</td>\n",
              "      <td>Infectious Disease Modelling</td>\n",
              "      <td>5.0</td>\n",
              "    </tr>\n",
              "    <tr>\n",
              "      <th>36</th>\n",
              "      <td>ScrumTrek</td>\n",
              "      <td>Agile и Scrum в работе над проектами и продуктами</td>\n",
              "      <td>4.9</td>\n",
              "    </tr>\n",
              "    <tr>\n",
              "      <th>40</th>\n",
              "      <td>Yale University</td>\n",
              "      <td>American Contract Law I</td>\n",
              "      <td>4.9</td>\n",
              "    </tr>\n",
              "    <tr>\n",
              "      <th>61</th>\n",
              "      <td>University of California San Diego</td>\n",
              "      <td>Aprendiendo a aprender: Poderosas herramientas...</td>\n",
              "      <td>4.9</td>\n",
              "    </tr>\n",
              "    <tr>\n",
              "      <th>65</th>\n",
              "      <td>Arizona State University</td>\n",
              "      <td>Arizona State University TESOL</td>\n",
              "      <td>4.9</td>\n",
              "    </tr>\n",
              "    <tr>\n",
              "      <th>70</th>\n",
              "      <td>University of Virginia</td>\n",
              "      <td>Aspectos básicos de la planificación y la gest...</td>\n",
              "      <td>4.9</td>\n",
              "    </tr>\n",
              "    <tr>\n",
              "      <th>82</th>\n",
              "      <td>Google - Spectrum Sharing</td>\n",
              "      <td>Become a CBRS Certified Professional Installer...</td>\n",
              "      <td>4.9</td>\n",
              "    </tr>\n",
              "    <tr>\n",
              "      <th>98</th>\n",
              "      <td>HEC Paris</td>\n",
              "      <td>Boosting Creativity for Innovation</td>\n",
              "      <td>4.9</td>\n",
              "    </tr>\n",
              "    <tr>\n",
              "      <th>99</th>\n",
              "      <td>London Business School</td>\n",
              "      <td>Brand Management: Aligning Business, Brand and...</td>\n",
              "      <td>4.9</td>\n",
              "    </tr>\n",
              "  </tbody>\n",
              "</table>\n",
              "</div>\n",
              "      <button class=\"colab-df-convert\" onclick=\"convertToInteractive('df-05f72977-5613-4131-a771-6804a637f28b')\"\n",
              "              title=\"Convert this dataframe to an interactive table.\"\n",
              "              style=\"display:none;\">\n",
              "        \n",
              "  <svg xmlns=\"http://www.w3.org/2000/svg\" height=\"24px\"viewBox=\"0 0 24 24\"\n",
              "       width=\"24px\">\n",
              "    <path d=\"M0 0h24v24H0V0z\" fill=\"none\"/>\n",
              "    <path d=\"M18.56 5.44l.94 2.06.94-2.06 2.06-.94-2.06-.94-.94-2.06-.94 2.06-2.06.94zm-11 1L8.5 8.5l.94-2.06 2.06-.94-2.06-.94L8.5 2.5l-.94 2.06-2.06.94zm10 10l.94 2.06.94-2.06 2.06-.94-2.06-.94-.94-2.06-.94 2.06-2.06.94z\"/><path d=\"M17.41 7.96l-1.37-1.37c-.4-.4-.92-.59-1.43-.59-.52 0-1.04.2-1.43.59L10.3 9.45l-7.72 7.72c-.78.78-.78 2.05 0 2.83L4 21.41c.39.39.9.59 1.41.59.51 0 1.02-.2 1.41-.59l7.78-7.78 2.81-2.81c.8-.78.8-2.07 0-2.86zM5.41 20L4 18.59l7.72-7.72 1.47 1.35L5.41 20z\"/>\n",
              "  </svg>\n",
              "      </button>\n",
              "      \n",
              "  <style>\n",
              "    .colab-df-container {\n",
              "      display:flex;\n",
              "      flex-wrap:wrap;\n",
              "      gap: 12px;\n",
              "    }\n",
              "\n",
              "    .colab-df-convert {\n",
              "      background-color: #E8F0FE;\n",
              "      border: none;\n",
              "      border-radius: 50%;\n",
              "      cursor: pointer;\n",
              "      display: none;\n",
              "      fill: #1967D2;\n",
              "      height: 32px;\n",
              "      padding: 0 0 0 0;\n",
              "      width: 32px;\n",
              "    }\n",
              "\n",
              "    .colab-df-convert:hover {\n",
              "      background-color: #E2EBFA;\n",
              "      box-shadow: 0px 1px 2px rgba(60, 64, 67, 0.3), 0px 1px 3px 1px rgba(60, 64, 67, 0.15);\n",
              "      fill: #174EA6;\n",
              "    }\n",
              "\n",
              "    [theme=dark] .colab-df-convert {\n",
              "      background-color: #3B4455;\n",
              "      fill: #D2E3FC;\n",
              "    }\n",
              "\n",
              "    [theme=dark] .colab-df-convert:hover {\n",
              "      background-color: #434B5C;\n",
              "      box-shadow: 0px 1px 3px 1px rgba(0, 0, 0, 0.15);\n",
              "      filter: drop-shadow(0px 1px 2px rgba(0, 0, 0, 0.3));\n",
              "      fill: #FFFFFF;\n",
              "    }\n",
              "  </style>\n",
              "\n",
              "      <script>\n",
              "        const buttonEl =\n",
              "          document.querySelector('#df-05f72977-5613-4131-a771-6804a637f28b button.colab-df-convert');\n",
              "        buttonEl.style.display =\n",
              "          google.colab.kernel.accessAllowed ? 'block' : 'none';\n",
              "\n",
              "        async function convertToInteractive(key) {\n",
              "          const element = document.querySelector('#df-05f72977-5613-4131-a771-6804a637f28b');\n",
              "          const dataTable =\n",
              "            await google.colab.kernel.invokeFunction('convertToInteractive',\n",
              "                                                     [key], {});\n",
              "          if (!dataTable) return;\n",
              "\n",
              "          const docLinkHtml = 'Like what you see? Visit the ' +\n",
              "            '<a target=\"_blank\" href=https://colab.research.google.com/notebooks/data_table.ipynb>data table notebook</a>'\n",
              "            + ' to learn more about interactive tables.';\n",
              "          element.innerHTML = '';\n",
              "          dataTable['output_type'] = 'display_data';\n",
              "          await google.colab.output.renderOutput(dataTable, element);\n",
              "          const docLink = document.createElement('div');\n",
              "          docLink.innerHTML = docLinkHtml;\n",
              "          element.appendChild(docLink);\n",
              "        }\n",
              "      </script>\n",
              "    </div>\n",
              "  </div>\n",
              "  "
            ]
          },
          "metadata": {},
          "execution_count": 70
        }
      ]
    },
    {
      "cell_type": "markdown",
      "source": [
        "**Findings:**\n",
        "\n",
        "There's only two courses with a rating of 5.0\n"
      ],
      "metadata": {
        "id": "VFT-9VFRD3rT"
      }
    },
    {
      "cell_type": "markdown",
      "source": [
        "**3.10 Popular Courses with student enrolments**"
      ],
      "metadata": {
        "id": "sqMgefZFERaQ"
      }
    },
    {
      "cell_type": "code",
      "source": [
        "stu_course=df[['course_organization','course_title','course_students_enrolled']]\n",
        "stu_enrol = stu_course.nlargest(10,['course_students_enrolled'])\n",
        "sns.barplot(y = stu_enrol['course_title'], x =stu_enrol['course_students_enrolled'],orient='h',palette='icefire')\n",
        "plt.xticks(rotation = 90)"
      ],
      "metadata": {
        "colab": {
          "base_uri": "https://localhost:8080/",
          "height": 359
        },
        "id": "HehI8ogREiAp",
        "outputId": "11024a03-683b-49fc-b154-0e68c5821934"
      },
      "execution_count": 71,
      "outputs": [
        {
          "output_type": "execute_result",
          "data": {
            "text/plain": [
              "(array([      0.,  500000., 1000000., 1500000., 2000000., 2500000.,\n",
              "        3000000., 3500000.]), <a list of 8 Text major ticklabel objects>)"
            ]
          },
          "metadata": {},
          "execution_count": 71
        },
        {
          "output_type": "display_data",
          "data": {
            "text/plain": [
              "<Figure size 720x360 with 1 Axes>"
            ],
            "image/png": "[encoded data removed]"
          },
          "metadata": {}
        }
      ]
    },
    {
      "cell_type": "code",
      "source": [
        "stu_enrol"
      ],
      "metadata": {
        "colab": {
          "base_uri": "https://localhost:8080/",
          "height": 363
        },
        "id": "8RCYhm3qFWdT",
        "outputId": "98fc0198-d8e5-42ad-aa42-96f6651c1cca"
      },
      "execution_count": 72,
      "outputs": [
        {
          "output_type": "execute_result",
          "data": {
            "text/plain": [
              "                  course_organization  \\\n",
              "564               Stanford University   \n",
              "815                   Yale University   \n",
              "688            University of Michigan   \n",
              "674            University of Michigan   \n",
              "196          Johns Hopkins University   \n",
              "129  University of California, Irvine   \n",
              "261        University of Pennsylvania   \n",
              "765            University of Michigan   \n",
              "199          Johns Hopkins University   \n",
              "211                   deeplearning.ai   \n",
              "\n",
              "                                          course_title  \\\n",
              "564                                   Machine Learning   \n",
              "815                          The Science of Well-Being   \n",
              "688                               Python for Everybody   \n",
              "674  Programming for Everybody (Getting Started wit...   \n",
              "196                                       Data Science   \n",
              "129                                     Career Success   \n",
              "261                     English for Career Development   \n",
              "765  Successful Negotiation: Essential Strategies a...   \n",
              "199                  Data Science: Foundations using R   \n",
              "211                                      Deep Learning   \n",
              "\n",
              "     course_students_enrolled  \n",
              "564                   3200000  \n",
              "815                   2500000  \n",
              "688                   1500000  \n",
              "674                   1300000  \n",
              "196                    830000  \n",
              "129                    790000  \n",
              "261                    760000  \n",
              "765                    750000  \n",
              "199                    740000  \n",
              "211                    690000  "
            ],
            "text/html": [
              "\n",
              "  <div id=\"df-91a59c58-5d79-4f0d-973e-41d5dab3d36f\">\n",
              "    <div class=\"colab-df-container\">\n",
              "      <div>\n",
              "<style scoped>\n",
              "    .dataframe tbody tr th:only-of-type {\n",
              "        vertical-align: middle;\n",
              "    }\n",
              "\n",
              "    .dataframe tbody tr th {\n",
              "        vertical-align: top;\n",
              "    }\n",
              "\n",
              "    .dataframe thead th {\n",
              "        text-align: right;\n",
              "    }\n",
              "</style>\n",
              "<table border=\"1\" class=\"dataframe\">\n",
              "  <thead>\n",
              "    <tr style=\"text-align: right;\">\n",
              "      <th></th>\n",
              "      <th>course_organization</th>\n",
              "      <th>course_title</th>\n",
              "      <th>course_students_enrolled</th>\n",
              "    </tr>\n",
              "  </thead>\n",
              "  <tbody>\n",
              "    <tr>\n",
              "      <th>564</th>\n",
              "      <td>Stanford University</td>\n",
              "      <td>Machine Learning</td>\n",
              "      <td>3200000</td>\n",
              "    </tr>\n",
              "    <tr>\n",
              "      <th>815</th>\n",
              "      <td>Yale University</td>\n",
              "      <td>The Science of Well-Being</td>\n",
              "      <td>2500000</td>\n",
              "    </tr>\n",
              "    <tr>\n",
              "      <th>688</th>\n",
              "      <td>University of Michigan</td>\n",
              "      <td>Python for Everybody</td>\n",
              "      <td>1500000</td>\n",
              "    </tr>\n",
              "    <tr>\n",
              "      <th>674</th>\n",
              "      <td>University of Michigan</td>\n",
              "      <td>Programming for Everybody (Getting Started wit...</td>\n",
              "      <td>1300000</td>\n",
              "    </tr>\n",
              "    <tr>\n",
              "      <th>196</th>\n",
              "      <td>Johns Hopkins University</td>\n",
              "      <td>Data Science</td>\n",
              "      <td>830000</td>\n",
              "    </tr>\n",
              "    <tr>\n",
              "      <th>129</th>\n",
              "      <td>University of California, Irvine</td>\n",
              "      <td>Career Success</td>\n",
              "      <td>790000</td>\n",
              "    </tr>\n",
              "    <tr>\n",
              "      <th>261</th>\n",
              "      <td>University of Pennsylvania</td>\n",
              "      <td>English for Career Development</td>\n",
              "      <td>760000</td>\n",
              "    </tr>\n",
              "    <tr>\n",
              "      <th>765</th>\n",
              "      <td>University of Michigan</td>\n",
              "      <td>Successful Negotiation: Essential Strategies a...</td>\n",
              "      <td>750000</td>\n",
              "    </tr>\n",
              "    <tr>\n",
              "      <th>199</th>\n",
              "      <td>Johns Hopkins University</td>\n",
              "      <td>Data Science: Foundations using R</td>\n",
              "      <td>740000</td>\n",
              "    </tr>\n",
              "    <tr>\n",
              "      <th>211</th>\n",
              "      <td>deeplearning.ai</td>\n",
              "      <td>Deep Learning</td>\n",
              "      <td>690000</td>\n",
              "    </tr>\n",
              "  </tbody>\n",
              "</table>\n",
              "</div>\n",
              "      <button class=\"colab-df-convert\" onclick=\"convertToInteractive('df-91a59c58-5d79-4f0d-973e-41d5dab3d36f')\"\n",
              "              title=\"Convert this dataframe to an interactive table.\"\n",
              "              style=\"display:none;\">\n",
              "        \n",
              "  <svg xmlns=\"http://www.w3.org/2000/svg\" height=\"24px\"viewBox=\"0 0 24 24\"\n",
              "       width=\"24px\">\n",
              "    <path d=\"M0 0h24v24H0V0z\" fill=\"none\"/>\n",
              "    <path d=\"M18.56 5.44l.94 2.06.94-2.06 2.06-.94-2.06-.94-.94-2.06-.94 2.06-2.06.94zm-11 1L8.5 8.5l.94-2.06 2.06-.94-2.06-.94L8.5 2.5l-.94 2.06-2.06.94zm10 10l.94 2.06.94-2.06 2.06-.94-2.06-.94-.94-2.06-.94 2.06-2.06.94z\"/><path d=\"M17.41 7.96l-1.37-1.37c-.4-.4-.92-.59-1.43-.59-.52 0-1.04.2-1.43.59L10.3 9.45l-7.72 7.72c-.78.78-.78 2.05 0 2.83L4 21.41c.39.39.9.59 1.41.59.51 0 1.02-.2 1.41-.59l7.78-7.78 2.81-2.81c.8-.78.8-2.07 0-2.86zM5.41 20L4 18.59l7.72-7.72 1.47 1.35L5.41 20z\"/>\n",
              "  </svg>\n",
              "      </button>\n",
              "      \n",
              "  <style>\n",
              "    .colab-df-container {\n",
              "      display:flex;\n",
              "      flex-wrap:wrap;\n",
              "      gap: 12px;\n",
              "    }\n",
              "\n",
              "    .colab-df-convert {\n",
              "      background-color: #E8F0FE;\n",
              "      border: none;\n",
              "      border-radius: 50%;\n",
              "      cursor: pointer;\n",
              "      display: none;\n",
              "      fill: #1967D2;\n",
              "      height: 32px;\n",
              "      padding: 0 0 0 0;\n",
              "      width: 32px;\n",
              "    }\n",
              "\n",
              "    .colab-df-convert:hover {\n",
              "      background-color: #E2EBFA;\n",
              "      box-shadow: 0px 1px 2px rgba(60, 64, 67, 0.3), 0px 1px 3px 1px rgba(60, 64, 67, 0.15);\n",
              "      fill: #174EA6;\n",
              "    }\n",
              "\n",
              "    [theme=dark] .colab-df-convert {\n",
              "      background-color: #3B4455;\n",
              "      fill: #D2E3FC;\n",
              "    }\n",
              "\n",
              "    [theme=dark] .colab-df-convert:hover {\n",
              "      background-color: #434B5C;\n",
              "      box-shadow: 0px 1px 3px 1px rgba(0, 0, 0, 0.15);\n",
              "      filter: drop-shadow(0px 1px 2px rgba(0, 0, 0, 0.3));\n",
              "      fill: #FFFFFF;\n",
              "    }\n",
              "  </style>\n",
              "\n",
              "      <script>\n",
              "        const buttonEl =\n",
              "          document.querySelector('#df-91a59c58-5d79-4f0d-973e-41d5dab3d36f button.colab-df-convert');\n",
              "        buttonEl.style.display =\n",
              "          google.colab.kernel.accessAllowed ? 'block' : 'none';\n",
              "\n",
              "        async function convertToInteractive(key) {\n",
              "          const element = document.querySelector('#df-91a59c58-5d79-4f0d-973e-41d5dab3d36f');\n",
              "          const dataTable =\n",
              "            await google.colab.kernel.invokeFunction('convertToInteractive',\n",
              "                                                     [key], {});\n",
              "          if (!dataTable) return;\n",
              "\n",
              "          const docLinkHtml = 'Like what you see? Visit the ' +\n",
              "            '<a target=\"_blank\" href=https://colab.research.google.com/notebooks/data_table.ipynb>data table notebook</a>'\n",
              "            + ' to learn more about interactive tables.';\n",
              "          element.innerHTML = '';\n",
              "          dataTable['output_type'] = 'display_data';\n",
              "          await google.colab.output.renderOutput(dataTable, element);\n",
              "          const docLink = document.createElement('div');\n",
              "          docLink.innerHTML = docLinkHtml;\n",
              "          element.appendChild(docLink);\n",
              "        }\n",
              "      </script>\n",
              "    </div>\n",
              "  </div>\n",
              "  "
            ]
          },
          "metadata": {},
          "execution_count": 72
        }
      ]
    },
    {
      "cell_type": "markdown",
      "source": [
        "***Findings***\n",
        "\n",
        "\n",
        "Machine learning is the top course the students instrested in enrolling"
      ],
      "metadata": {
        "id": "GEOawWLtFn3E"
      }
    },
    {
      "cell_type": "markdown",
      "source": [
        "**3.11 difficult levels vs student enrollment**"
      ],
      "metadata": {
        "id": "YGllGP8dJEyH"
      }
    },
    {
      "cell_type": "code",
      "source": [
        "ax=sns.barplot('course_difficulty','course_students_enrolled',data=df,palette='viridis')\n",
        "ax.axes.set_title(\"\\nstudent enrol vs course diffculty\\n\",fontsize=25)\n",
        "for k in ax.patches:\n",
        "            percentage = '{:.1f}%'.format(1* k.get_height()/len(df))\n",
        "            x = k.get_x() \n",
        "            y = k.get_height()\n",
        "            ax.annotate(percentage, (x, y))\n",
        "plt.show()"
      ],
      "metadata": {
        "colab": {
          "base_uri": "https://localhost:8080/",
          "height": 420
        },
        "id": "IUReudq7F3KT",
        "outputId": "e3e95da2-302b-45a9-b06d-d88fd4c9ab63"
      },
      "execution_count": 73,
      "outputs": [
        {
          "output_type": "display_data",
          "data": {
            "text/plain": [
              "<Figure size 720x360 with 1 Axes>"
            ],
            "image/png": "[encoded data removed]"
          },
          "metadata": {}
        }
      ]
    },
    {
      "cell_type": "markdown",
      "source": [
        "***Findings:***\n",
        "\n",
        "mostly students are enrolled in the mixed level"
      ],
      "metadata": {
        "id": "IkKDUNNrIyIN"
      }
    },
    {
      "cell_type": "markdown",
      "source": [
        "**3.12 student enrollment based on rating and difficulty**"
      ],
      "metadata": {
        "id": "aBmuqBtCNDfV"
      }
    },
    {
      "cell_type": "code",
      "source": [
        "stu_course1=df[['course_difficulty','course_rating','course_students_enrolled']]\n",
        "stu_enrol1 = stu_course1.nlargest(10,['course_students_enrolled'])\n",
        "sns.barplot(y = stu_enrol1['course_rating'], x =stu_enrol1['course_students_enrolled'],orient='h',palette='icefire')\n",
        "plt.xticks(rotation = 90)"
      ],
      "metadata": {
        "colab": {
          "base_uri": "https://localhost:8080/",
          "height": 382
        },
        "id": "-PR-_S5PGl6F",
        "outputId": "3d82fdfe-fb1a-489b-f033-8ceba65142ce"
      },
      "execution_count": 74,
      "outputs": [
        {
          "output_type": "execute_result",
          "data": {
            "text/plain": [
              "(array([      0.,  500000., 1000000., 1500000., 2000000., 2500000.,\n",
              "        3000000., 3500000.]), <a list of 8 Text major ticklabel objects>)"
            ]
          },
          "metadata": {},
          "execution_count": 74
        },
        {
          "output_type": "display_data",
          "data": {
            "text/plain": [
              "<Figure size 720x360 with 1 Axes>"
            ],
            "image/png": "[encoded data removed]"
          },
          "metadata": {}
        }
      ]
    },
    {
      "cell_type": "code",
      "source": [
        "stu_enrol1 "
      ],
      "metadata": {
        "colab": {
          "base_uri": "https://localhost:8080/",
          "height": 363
        },
        "id": "Nsx-a3tcMXek",
        "outputId": "f5ac1995-bf00-40b1-cf4f-2d50f948f1d9"
      },
      "execution_count": 75,
      "outputs": [
        {
          "output_type": "execute_result",
          "data": {
            "text/plain": [
              "    course_difficulty  course_rating  course_students_enrolled\n",
              "564             Mixed            4.9                   3200000\n",
              "815             Mixed            4.9                   2500000\n",
              "688          Beginner            4.8                   1500000\n",
              "674             Mixed            4.8                   1300000\n",
              "196          Beginner            4.5                    830000\n",
              "129          Beginner            4.4                    790000\n",
              "261             Mixed            4.8                    760000\n",
              "765             Mixed            4.8                    750000\n",
              "199          Beginner            4.6                    740000\n",
              "211      Intermediate            4.8                    690000"
            ],
            "text/html": [
              "\n",
              "  <div id=\"df-3152cfc2-e899-44ef-b9c5-e025c1cabad0\">\n",
              "    <div class=\"colab-df-container\">\n",
              "      <div>\n",
              "<style scoped>\n",
              "    .dataframe tbody tr th:only-of-type {\n",
              "        vertical-align: middle;\n",
              "    }\n",
              "\n",
              "    .dataframe tbody tr th {\n",
              "        vertical-align: top;\n",
              "    }\n",
              "\n",
              "    .dataframe thead th {\n",
              "        text-align: right;\n",
              "    }\n",
              "</style>\n",
              "<table border=\"1\" class=\"dataframe\">\n",
              "  <thead>\n",
              "    <tr style=\"text-align: right;\">\n",
              "      <th></th>\n",
              "      <th>course_difficulty</th>\n",
              "      <th>course_rating</th>\n",
              "      <th>course_students_enrolled</th>\n",
              "    </tr>\n",
              "  </thead>\n",
              "  <tbody>\n",
              "    <tr>\n",
              "      <th>564</th>\n",
              "      <td>Mixed</td>\n",
              "      <td>4.9</td>\n",
              "      <td>3200000</td>\n",
              "    </tr>\n",
              "    <tr>\n",
              "      <th>815</th>\n",
              "      <td>Mixed</td>\n",
              "      <td>4.9</td>\n",
              "      <td>2500000</td>\n",
              "    </tr>\n",
              "    <tr>\n",
              "      <th>688</th>\n",
              "      <td>Beginner</td>\n",
              "      <td>4.8</td>\n",
              "      <td>1500000</td>\n",
              "    </tr>\n",
              "    <tr>\n",
              "      <th>674</th>\n",
              "      <td>Mixed</td>\n",
              "      <td>4.8</td>\n",
              "      <td>1300000</td>\n",
              "    </tr>\n",
              "    <tr>\n",
              "      <th>196</th>\n",
              "      <td>Beginner</td>\n",
              "      <td>4.5</td>\n",
              "      <td>830000</td>\n",
              "    </tr>\n",
              "    <tr>\n",
              "      <th>129</th>\n",
              "      <td>Beginner</td>\n",
              "      <td>4.4</td>\n",
              "      <td>790000</td>\n",
              "    </tr>\n",
              "    <tr>\n",
              "      <th>261</th>\n",
              "      <td>Mixed</td>\n",
              "      <td>4.8</td>\n",
              "      <td>760000</td>\n",
              "    </tr>\n",
              "    <tr>\n",
              "      <th>765</th>\n",
              "      <td>Mixed</td>\n",
              "      <td>4.8</td>\n",
              "      <td>750000</td>\n",
              "    </tr>\n",
              "    <tr>\n",
              "      <th>199</th>\n",
              "      <td>Beginner</td>\n",
              "      <td>4.6</td>\n",
              "      <td>740000</td>\n",
              "    </tr>\n",
              "    <tr>\n",
              "      <th>211</th>\n",
              "      <td>Intermediate</td>\n",
              "      <td>4.8</td>\n",
              "      <td>690000</td>\n",
              "    </tr>\n",
              "  </tbody>\n",
              "</table>\n",
              "</div>\n",
              "      <button class=\"colab-df-convert\" onclick=\"convertToInteractive('df-3152cfc2-e899-44ef-b9c5-e025c1cabad0')\"\n",
              "              title=\"Convert this dataframe to an interactive table.\"\n",
              "              style=\"display:none;\">\n",
              "        \n",
              "  <svg xmlns=\"http://www.w3.org/2000/svg\" height=\"24px\"viewBox=\"0 0 24 24\"\n",
              "       width=\"24px\">\n",
              "    <path d=\"M0 0h24v24H0V0z\" fill=\"none\"/>\n",
              "    <path d=\"M18.56 5.44l.94 2.06.94-2.06 2.06-.94-2.06-.94-.94-2.06-.94 2.06-2.06.94zm-11 1L8.5 8.5l.94-2.06 2.06-.94-2.06-.94L8.5 2.5l-.94 2.06-2.06.94zm10 10l.94 2.06.94-2.06 2.06-.94-2.06-.94-.94-2.06-.94 2.06-2.06.94z\"/><path d=\"M17.41 7.96l-1.37-1.37c-.4-.4-.92-.59-1.43-.59-.52 0-1.04.2-1.43.59L10.3 9.45l-7.72 7.72c-.78.78-.78 2.05 0 2.83L4 21.41c.39.39.9.59 1.41.59.51 0 1.02-.2 1.41-.59l7.78-7.78 2.81-2.81c.8-.78.8-2.07 0-2.86zM5.41 20L4 18.59l7.72-7.72 1.47 1.35L5.41 20z\"/>\n",
              "  </svg>\n",
              "      </button>\n",
              "      \n",
              "  <style>\n",
              "    .colab-df-container {\n",
              "      display:flex;\n",
              "      flex-wrap:wrap;\n",
              "      gap: 12px;\n",
              "    }\n",
              "\n",
              "    .colab-df-convert {\n",
              "      background-color: #E8F0FE;\n",
              "      border: none;\n",
              "      border-radius: 50%;\n",
              "      cursor: pointer;\n",
              "      display: none;\n",
              "      fill: #1967D2;\n",
              "      height: 32px;\n",
              "      padding: 0 0 0 0;\n",
              "      width: 32px;\n",
              "    }\n",
              "\n",
              "    .colab-df-convert:hover {\n",
              "      background-color: #E2EBFA;\n",
              "      box-shadow: 0px 1px 2px rgba(60, 64, 67, 0.3), 0px 1px 3px 1px rgba(60, 64, 67, 0.15);\n",
              "      fill: #174EA6;\n",
              "    }\n",
              "\n",
              "    [theme=dark] .colab-df-convert {\n",
              "      background-color: #3B4455;\n",
              "      fill: #D2E3FC;\n",
              "    }\n",
              "\n",
              "    [theme=dark] .colab-df-convert:hover {\n",
              "      background-color: #434B5C;\n",
              "      box-shadow: 0px 1px 3px 1px rgba(0, 0, 0, 0.15);\n",
              "      filter: drop-shadow(0px 1px 2px rgba(0, 0, 0, 0.3));\n",
              "      fill: #FFFFFF;\n",
              "    }\n",
              "  </style>\n",
              "\n",
              "      <script>\n",
              "        const buttonEl =\n",
              "          document.querySelector('#df-3152cfc2-e899-44ef-b9c5-e025c1cabad0 button.colab-df-convert');\n",
              "        buttonEl.style.display =\n",
              "          google.colab.kernel.accessAllowed ? 'block' : 'none';\n",
              "\n",
              "        async function convertToInteractive(key) {\n",
              "          const element = document.querySelector('#df-3152cfc2-e899-44ef-b9c5-e025c1cabad0');\n",
              "          const dataTable =\n",
              "            await google.colab.kernel.invokeFunction('convertToInteractive',\n",
              "                                                     [key], {});\n",
              "          if (!dataTable) return;\n",
              "\n",
              "          const docLinkHtml = 'Like what you see? Visit the ' +\n",
              "            '<a target=\"_blank\" href=https://colab.research.google.com/notebooks/data_table.ipynb>data table notebook</a>'\n",
              "            + ' to learn more about interactive tables.';\n",
              "          element.innerHTML = '';\n",
              "          dataTable['output_type'] = 'display_data';\n",
              "          await google.colab.output.renderOutput(dataTable, element);\n",
              "          const docLink = document.createElement('div');\n",
              "          docLink.innerHTML = docLinkHtml;\n",
              "          element.appendChild(docLink);\n",
              "        }\n",
              "      </script>\n",
              "    </div>\n",
              "  </div>\n",
              "  "
            ]
          },
          "metadata": {},
          "execution_count": 75
        }
      ]
    },
    {
      "cell_type": "markdown",
      "source": [
        "**Findings:**\n",
        "\n",
        "mostly the students enrolled with the rating which is above 4 and prefer to join mixed level"
      ],
      "metadata": {
        "id": "cJ4oD0P-OwvD"
      }
    },
    {
      "cell_type": "markdown",
      "source": [
        "**3.13 Finding keyword**"
      ],
      "metadata": {
        "id": "garwHIA0mKx3"
      }
    },
    {
      "cell_type": "code",
      "source": [
        "def keyword(df,feature, key):\n",
        "    \n",
        "    a=df[feature].str.find(key) != -1\n",
        "    return df[a]\n",
        "ml = keyword(df, 'course_title', 'Machine Learning')\n",
        "ml"
      ],
      "metadata": {
        "colab": {
          "base_uri": "https://localhost:8080/",
          "height": 1000
        },
        "id": "dIxljEjYmA1M",
        "outputId": "d9061d69-c9b8-4010-f422-5cecaafde731"
      },
      "execution_count": 144,
      "outputs": [
        {
          "output_type": "execute_result",
          "data": {
            "text/plain": [
              "                                          course_title  \\\n",
              "28                           Advanced Machine Learning   \n",
              "29   Advanced Machine Learning with TensorFlow on G...   \n",
              "57                  Applied Machine Learning in Python   \n",
              "193  Data Engineering, Big Data, and Machine Learni...   \n",
              "200      Data Science: Statistics and Machine Learning   \n",
              "375          Getting Started with AWS Machine Learning   \n",
              "389  Google Cloud Platform Big Data and Machine Lea...   \n",
              "520  Introduction to TensorFlow for Artificial Inte...   \n",
              "522    Introduction to Trading, Machine Learning & GCP   \n",
              "532  Investment Management with Python and Machine ...   \n",
              "563                                   Machine Learning   \n",
              "564                                   Machine Learning   \n",
              "565  Machine Learning Foundations: A Case Study App...   \n",
              "566  Machine Learning and Reinforcement Learning in...   \n",
              "567                           Machine Learning for All   \n",
              "568        Machine Learning for Business Professionals   \n",
              "569                       Machine Learning for Trading   \n",
              "570                       Machine Learning with Python   \n",
              "571  Machine Learning with TensorFlow on Google Clo...   \n",
              "595                   Mathematics for Machine Learning   \n",
              "596   Mathematics for Machine Learning: Linear Algebra   \n",
              "597  Mathematics for Machine Learning: Multivariate...   \n",
              "598              Mathematics for Machine Learning: PCA   \n",
              "763              Structuring Machine Learning Projects   \n",
              "\n",
              "                                   course_organization  \\\n",
              "28   National Research University Higher School of ...   \n",
              "29                                        Google Cloud   \n",
              "57                              University of Michigan   \n",
              "193                                       Google Cloud   \n",
              "200                           Johns Hopkins University   \n",
              "375                                Amazon Web Services   \n",
              "389                                       Google Cloud   \n",
              "520                                    deeplearning.ai   \n",
              "522                      New York Institute of Finance   \n",
              "532                              EDHEC Business School   \n",
              "563                           University of Washington   \n",
              "564                                Stanford University   \n",
              "565                           University of Washington   \n",
              "566                                New York University   \n",
              "567                               University of London   \n",
              "568                                       Google Cloud   \n",
              "569                                       Google Cloud   \n",
              "570                                                IBM   \n",
              "571                                       Google Cloud   \n",
              "595                            Imperial College London   \n",
              "596                            Imperial College London   \n",
              "597                            Imperial College London   \n",
              "598                            Imperial College London   \n",
              "763                                    deeplearning.ai   \n",
              "\n",
              "    course_Certificate_type  course_rating course_difficulty  \\\n",
              "28           SPECIALIZATION            4.5          Advanced   \n",
              "29           SPECIALIZATION            4.5          Advanced   \n",
              "57                   COURSE            4.6      Intermediate   \n",
              "193          SPECIALIZATION            4.6      Intermediate   \n",
              "200          SPECIALIZATION            4.4      Intermediate   \n",
              "375                  COURSE            4.5      Intermediate   \n",
              "389                  COURSE            4.6      Intermediate   \n",
              "520                  COURSE            4.7      Intermediate   \n",
              "522                  COURSE            4.0      Intermediate   \n",
              "532          SPECIALIZATION            4.6          Beginner   \n",
              "563          SPECIALIZATION            4.6      Intermediate   \n",
              "564                  COURSE            4.9             Mixed   \n",
              "565                  COURSE            4.6             Mixed   \n",
              "566          SPECIALIZATION            3.7      Intermediate   \n",
              "567                  COURSE            4.6          Beginner   \n",
              "568                  COURSE            4.6      Intermediate   \n",
              "569          SPECIALIZATION            3.9      Intermediate   \n",
              "570                  COURSE            4.7      Intermediate   \n",
              "571          SPECIALIZATION            4.5      Intermediate   \n",
              "595          SPECIALIZATION            4.6          Beginner   \n",
              "596                  COURSE            4.7          Beginner   \n",
              "597                  COURSE            4.7          Beginner   \n",
              "598                  COURSE            4.0      Intermediate   \n",
              "763                  COURSE            4.8          Beginner   \n",
              "\n",
              "     course_students_enrolled  \n",
              "28                     190000  \n",
              "29                      35000  \n",
              "57                     150000  \n",
              "193                    120000  \n",
              "200                    210000  \n",
              "375                     73000  \n",
              "389                    120000  \n",
              "520                    150000  \n",
              "522                     13000  \n",
              "532                     14000  \n",
              "563                    290000  \n",
              "564                   3200000  \n",
              "565                    240000  \n",
              "566                     29000  \n",
              "567                     19000  \n",
              "568                     58000  \n",
              "569                     15000  \n",
              "570                    120000  \n",
              "571                     72000  \n",
              "595                    150000  \n",
              "596                    140000  \n",
              "597                     51000  \n",
              "598                     33000  \n",
              "763                    220000  "
            ],
            "text/html": [
              "\n",
              "  <div id=\"df-71aed35a-ee67-401e-8120-d6410964a5b5\">\n",
              "    <div class=\"colab-df-container\">\n",
              "      <div>\n",
              "<style scoped>\n",
              "    .dataframe tbody tr th:only-of-type {\n",
              "        vertical-align: middle;\n",
              "    }\n",
              "\n",
              "    .dataframe tbody tr th {\n",
              "        vertical-align: top;\n",
              "    }\n",
              "\n",
              "    .dataframe thead th {\n",
              "        text-align: right;\n",
              "    }\n",
              "</style>\n",
              "<table border=\"1\" class=\"dataframe\">\n",
              "  <thead>\n",
              "    <tr style=\"text-align: right;\">\n",
              "      <th></th>\n",
              "      <th>course_title</th>\n",
              "      <th>course_organization</th>\n",
              "      <th>course_Certificate_type</th>\n",
              "      <th>course_rating</th>\n",
              "      <th>course_difficulty</th>\n",
              "      <th>course_students_enrolled</th>\n",
              "    </tr>\n",
              "  </thead>\n",
              "  <tbody>\n",
              "    <tr>\n",
              "      <th>28</th>\n",
              "      <td>Advanced Machine Learning</td>\n",
              "      <td>National Research University Higher School of ...</td>\n",
              "      <td>SPECIALIZATION</td>\n",
              "      <td>4.5</td>\n",
              "      <td>Advanced</td>\n",
              "      <td>190000</td>\n",
              "    </tr>\n",
              "    <tr>\n",
              "      <th>29</th>\n",
              "      <td>Advanced Machine Learning with TensorFlow on G...</td>\n",
              "      <td>Google Cloud</td>\n",
              "      <td>SPECIALIZATION</td>\n",
              "      <td>4.5</td>\n",
              "      <td>Advanced</td>\n",
              "      <td>35000</td>\n",
              "    </tr>\n",
              "    <tr>\n",
              "      <th>57</th>\n",
              "      <td>Applied Machine Learning in Python</td>\n",
              "      <td>University of Michigan</td>\n",
              "      <td>COURSE</td>\n",
              "      <td>4.6</td>\n",
              "      <td>Intermediate</td>\n",
              "      <td>150000</td>\n",
              "    </tr>\n",
              "    <tr>\n",
              "      <th>193</th>\n",
              "      <td>Data Engineering, Big Data, and Machine Learni...</td>\n",
              "      <td>Google Cloud</td>\n",
              "      <td>SPECIALIZATION</td>\n",
              "      <td>4.6</td>\n",
              "      <td>Intermediate</td>\n",
              "      <td>120000</td>\n",
              "    </tr>\n",
              "    <tr>\n",
              "      <th>200</th>\n",
              "      <td>Data Science: Statistics and Machine Learning</td>\n",
              "      <td>Johns Hopkins University</td>\n",
              "      <td>SPECIALIZATION</td>\n",
              "      <td>4.4</td>\n",
              "      <td>Intermediate</td>\n",
              "      <td>210000</td>\n",
              "    </tr>\n",
              "    <tr>\n",
              "      <th>375</th>\n",
              "      <td>Getting Started with AWS Machine Learning</td>\n",
              "      <td>Amazon Web Services</td>\n",
              "      <td>COURSE</td>\n",
              "      <td>4.5</td>\n",
              "      <td>Intermediate</td>\n",
              "      <td>73000</td>\n",
              "    </tr>\n",
              "    <tr>\n",
              "      <th>389</th>\n",
              "      <td>Google Cloud Platform Big Data and Machine Lea...</td>\n",
              "      <td>Google Cloud</td>\n",
              "      <td>COURSE</td>\n",
              "      <td>4.6</td>\n",
              "      <td>Intermediate</td>\n",
              "      <td>120000</td>\n",
              "    </tr>\n",
              "    <tr>\n",
              "      <th>520</th>\n",
              "      <td>Introduction to TensorFlow for Artificial Inte...</td>\n",
              "      <td>deeplearning.ai</td>\n",
              "      <td>COURSE</td>\n",
              "      <td>4.7</td>\n",
              "      <td>Intermediate</td>\n",
              "      <td>150000</td>\n",
              "    </tr>\n",
              "    <tr>\n",
              "      <th>522</th>\n",
              "      <td>Introduction to Trading, Machine Learning &amp; GCP</td>\n",
              "      <td>New York Institute of Finance</td>\n",
              "      <td>COURSE</td>\n",
              "      <td>4.0</td>\n",
              "      <td>Intermediate</td>\n",
              "      <td>13000</td>\n",
              "    </tr>\n",
              "    <tr>\n",
              "      <th>532</th>\n",
              "      <td>Investment Management with Python and Machine ...</td>\n",
              "      <td>EDHEC Business School</td>\n",
              "      <td>SPECIALIZATION</td>\n",
              "      <td>4.6</td>\n",
              "      <td>Beginner</td>\n",
              "      <td>14000</td>\n",
              "    </tr>\n",
              "    <tr>\n",
              "      <th>563</th>\n",
              "      <td>Machine Learning</td>\n",
              "      <td>University of Washington</td>\n",
              "      <td>SPECIALIZATION</td>\n",
              "      <td>4.6</td>\n",
              "      <td>Intermediate</td>\n",
              "      <td>290000</td>\n",
              "    </tr>\n",
              "    <tr>\n",
              "      <th>564</th>\n",
              "      <td>Machine Learning</td>\n",
              "      <td>Stanford University</td>\n",
              "      <td>COURSE</td>\n",
              "      <td>4.9</td>\n",
              "      <td>Mixed</td>\n",
              "      <td>3200000</td>\n",
              "    </tr>\n",
              "    <tr>\n",
              "      <th>565</th>\n",
              "      <td>Machine Learning Foundations: A Case Study App...</td>\n",
              "      <td>University of Washington</td>\n",
              "      <td>COURSE</td>\n",
              "      <td>4.6</td>\n",
              "      <td>Mixed</td>\n",
              "      <td>240000</td>\n",
              "    </tr>\n",
              "    <tr>\n",
              "      <th>566</th>\n",
              "      <td>Machine Learning and Reinforcement Learning in...</td>\n",
              "      <td>New York University</td>\n",
              "      <td>SPECIALIZATION</td>\n",
              "      <td>3.7</td>\n",
              "      <td>Intermediate</td>\n",
              "      <td>29000</td>\n",
              "    </tr>\n",
              "    <tr>\n",
              "      <th>567</th>\n",
              "      <td>Machine Learning for All</td>\n",
              "      <td>University of London</td>\n",
              "      <td>COURSE</td>\n",
              "      <td>4.6</td>\n",
              "      <td>Beginner</td>\n",
              "      <td>19000</td>\n",
              "    </tr>\n",
              "    <tr>\n",
              "      <th>568</th>\n",
              "      <td>Machine Learning for Business Professionals</td>\n",
              "      <td>Google Cloud</td>\n",
              "      <td>COURSE</td>\n",
              "      <td>4.6</td>\n",
              "      <td>Intermediate</td>\n",
              "      <td>58000</td>\n",
              "    </tr>\n",
              "    <tr>\n",
              "      <th>569</th>\n",
              "      <td>Machine Learning for Trading</td>\n",
              "      <td>Google Cloud</td>\n",
              "      <td>SPECIALIZATION</td>\n",
              "      <td>3.9</td>\n",
              "      <td>Intermediate</td>\n",
              "      <td>15000</td>\n",
              "    </tr>\n",
              "    <tr>\n",
              "      <th>570</th>\n",
              "      <td>Machine Learning with Python</td>\n",
              "      <td>IBM</td>\n",
              "      <td>COURSE</td>\n",
              "      <td>4.7</td>\n",
              "      <td>Intermediate</td>\n",
              "      <td>120000</td>\n",
              "    </tr>\n",
              "    <tr>\n",
              "      <th>571</th>\n",
              "      <td>Machine Learning with TensorFlow on Google Clo...</td>\n",
              "      <td>Google Cloud</td>\n",
              "      <td>SPECIALIZATION</td>\n",
              "      <td>4.5</td>\n",
              "      <td>Intermediate</td>\n",
              "      <td>72000</td>\n",
              "    </tr>\n",
              "    <tr>\n",
              "      <th>595</th>\n",
              "      <td>Mathematics for Machine Learning</td>\n",
              "      <td>Imperial College London</td>\n",
              "      <td>SPECIALIZATION</td>\n",
              "      <td>4.6</td>\n",
              "      <td>Beginner</td>\n",
              "      <td>150000</td>\n",
              "    </tr>\n",
              "    <tr>\n",
              "      <th>596</th>\n",
              "      <td>Mathematics for Machine Learning: Linear Algebra</td>\n",
              "      <td>Imperial College London</td>\n",
              "      <td>COURSE</td>\n",
              "      <td>4.7</td>\n",
              "      <td>Beginner</td>\n",
              "      <td>140000</td>\n",
              "    </tr>\n",
              "    <tr>\n",
              "      <th>597</th>\n",
              "      <td>Mathematics for Machine Learning: Multivariate...</td>\n",
              "      <td>Imperial College London</td>\n",
              "      <td>COURSE</td>\n",
              "      <td>4.7</td>\n",
              "      <td>Beginner</td>\n",
              "      <td>51000</td>\n",
              "    </tr>\n",
              "    <tr>\n",
              "      <th>598</th>\n",
              "      <td>Mathematics for Machine Learning: PCA</td>\n",
              "      <td>Imperial College London</td>\n",
              "      <td>COURSE</td>\n",
              "      <td>4.0</td>\n",
              "      <td>Intermediate</td>\n",
              "      <td>33000</td>\n",
              "    </tr>\n",
              "    <tr>\n",
              "      <th>763</th>\n",
              "      <td>Structuring Machine Learning Projects</td>\n",
              "      <td>deeplearning.ai</td>\n",
              "      <td>COURSE</td>\n",
              "      <td>4.8</td>\n",
              "      <td>Beginner</td>\n",
              "      <td>220000</td>\n",
              "    </tr>\n",
              "  </tbody>\n",
              "</table>\n",
              "</div>\n",
              "      <button class=\"colab-df-convert\" onclick=\"convertToInteractive('df-71aed35a-ee67-401e-8120-d6410964a5b5')\"\n",
              "              title=\"Convert this dataframe to an interactive table.\"\n",
              "              style=\"display:none;\">\n",
              "        \n",
              "  <svg xmlns=\"http://www.w3.org/2000/svg\" height=\"24px\"viewBox=\"0 0 24 24\"\n",
              "       width=\"24px\">\n",
              "    <path d=\"M0 0h24v24H0V0z\" fill=\"none\"/>\n",
              "    <path d=\"M18.56 5.44l.94 2.06.94-2.06 2.06-.94-2.06-.94-.94-2.06-.94 2.06-2.06.94zm-11 1L8.5 8.5l.94-2.06 2.06-.94-2.06-.94L8.5 2.5l-.94 2.06-2.06.94zm10 10l.94 2.06.94-2.06 2.06-.94-2.06-.94-.94-2.06-.94 2.06-2.06.94z\"/><path d=\"M17.41 7.96l-1.37-1.37c-.4-.4-.92-.59-1.43-.59-.52 0-1.04.2-1.43.59L10.3 9.45l-7.72 7.72c-.78.78-.78 2.05 0 2.83L4 21.41c.39.39.9.59 1.41.59.51 0 1.02-.2 1.41-.59l7.78-7.78 2.81-2.81c.8-.78.8-2.07 0-2.86zM5.41 20L4 18.59l7.72-7.72 1.47 1.35L5.41 20z\"/>\n",
              "  </svg>\n",
              "      </button>\n",
              "      \n",
              "  <style>\n",
              "    .colab-df-container {\n",
              "      display:flex;\n",
              "      flex-wrap:wrap;\n",
              "      gap: 12px;\n",
              "    }\n",
              "\n",
              "    .colab-df-convert {\n",
              "      background-color: #E8F0FE;\n",
              "      border: none;\n",
              "      border-radius: 50%;\n",
              "      cursor: pointer;\n",
              "      display: none;\n",
              "      fill: #1967D2;\n",
              "      height: 32px;\n",
              "      padding: 0 0 0 0;\n",
              "      width: 32px;\n",
              "    }\n",
              "\n",
              "    .colab-df-convert:hover {\n",
              "      background-color: #E2EBFA;\n",
              "      box-shadow: 0px 1px 2px rgba(60, 64, 67, 0.3), 0px 1px 3px 1px rgba(60, 64, 67, 0.15);\n",
              "      fill: #174EA6;\n",
              "    }\n",
              "\n",
              "    [theme=dark] .colab-df-convert {\n",
              "      background-color: #3B4455;\n",
              "      fill: #D2E3FC;\n",
              "    }\n",
              "\n",
              "    [theme=dark] .colab-df-convert:hover {\n",
              "      background-color: #434B5C;\n",
              "      box-shadow: 0px 1px 3px 1px rgba(0, 0, 0, 0.15);\n",
              "      filter: drop-shadow(0px 1px 2px rgba(0, 0, 0, 0.3));\n",
              "      fill: #FFFFFF;\n",
              "    }\n",
              "  </style>\n",
              "\n",
              "      <script>\n",
              "        const buttonEl =\n",
              "          document.querySelector('#df-71aed35a-ee67-401e-8120-d6410964a5b5 button.colab-df-convert');\n",
              "        buttonEl.style.display =\n",
              "          google.colab.kernel.accessAllowed ? 'block' : 'none';\n",
              "\n",
              "        async function convertToInteractive(key) {\n",
              "          const element = document.querySelector('#df-71aed35a-ee67-401e-8120-d6410964a5b5');\n",
              "          const dataTable =\n",
              "            await google.colab.kernel.invokeFunction('convertToInteractive',\n",
              "                                                     [key], {});\n",
              "          if (!dataTable) return;\n",
              "\n",
              "          const docLinkHtml = 'Like what you see? Visit the ' +\n",
              "            '<a target=\"_blank\" href=https://colab.research.google.com/notebooks/data_table.ipynb>data table notebook</a>'\n",
              "            + ' to learn more about interactive tables.';\n",
              "          element.innerHTML = '';\n",
              "          dataTable['output_type'] = 'display_data';\n",
              "          await google.colab.output.renderOutput(dataTable, element);\n",
              "          const docLink = document.createElement('div');\n",
              "          docLink.innerHTML = docLinkHtml;\n",
              "          element.appendChild(docLink);\n",
              "        }\n",
              "      </script>\n",
              "    </div>\n",
              "  </div>\n",
              "  "
            ]
          },
          "metadata": {},
          "execution_count": 144
        }
      ]
    },
    {
      "cell_type": "markdown",
      "source": [
        "**3.14 Finding highest and lowest ratign course**"
      ],
      "metadata": {
        "id": "9pB5YcrAPPcC"
      }
    },
    {
      "cell_type": "code",
      "source": [
        "def findingratg(data, feature,key:str):\n",
        "    \n",
        "\n",
        "    result = feature + key\n",
        "    return df.query(result)"
      ],
      "metadata": {
        "id": "MRnd5LvPRmL1"
      },
      "execution_count": 86,
      "outputs": []
    },
    {
      "cell_type": "code",
      "source": [
        "findingratg(df, 'course_rating', '==5')[['course_title', 'course_rating']].sort_values('course_rating')"
      ],
      "metadata": {
        "colab": {
          "base_uri": "https://localhost:8080/",
          "height": 112
        },
        "id": "xmpW-TMpTRgR",
        "outputId": "e839f7c5-b5c1-4412-c723-464b46814864"
      },
      "execution_count": 90,
      "outputs": [
        {
          "output_type": "execute_result",
          "data": {
            "text/plain": [
              "                                          course_title  course_rating\n",
              "251  El Abogado del Futuro: Legaltech y la Transfor...            5.0\n",
              "432                       Infectious Disease Modelling            5.0"
            ],
            "text/html": [
              "\n",
              "  <div id=\"df-ee0c2807-880b-4aab-9b79-785af8868829\">\n",
              "    <div class=\"colab-df-container\">\n",
              "      <div>\n",
              "<style scoped>\n",
              "    .dataframe tbody tr th:only-of-type {\n",
              "        vertical-align: middle;\n",
              "    }\n",
              "\n",
              "    .dataframe tbody tr th {\n",
              "        vertical-align: top;\n",
              "    }\n",
              "\n",
              "    .dataframe thead th {\n",
              "        text-align: right;\n",
              "    }\n",
              "</style>\n",
              "<table border=\"1\" class=\"dataframe\">\n",
              "  <thead>\n",
              "    <tr style=\"text-align: right;\">\n",
              "      <th></th>\n",
              "      <th>course_title</th>\n",
              "      <th>course_rating</th>\n",
              "    </tr>\n",
              "  </thead>\n",
              "  <tbody>\n",
              "    <tr>\n",
              "      <th>251</th>\n",
              "      <td>El Abogado del Futuro: Legaltech y la Transfor...</td>\n",
              "      <td>5.0</td>\n",
              "    </tr>\n",
              "    <tr>\n",
              "      <th>432</th>\n",
              "      <td>Infectious Disease Modelling</td>\n",
              "      <td>5.0</td>\n",
              "    </tr>\n",
              "  </tbody>\n",
              "</table>\n",
              "</div>\n",
              "      <button class=\"colab-df-convert\" onclick=\"convertToInteractive('df-ee0c2807-880b-4aab-9b79-785af8868829')\"\n",
              "              title=\"Convert this dataframe to an interactive table.\"\n",
              "              style=\"display:none;\">\n",
              "        \n",
              "  <svg xmlns=\"http://www.w3.org/2000/svg\" height=\"24px\"viewBox=\"0 0 24 24\"\n",
              "       width=\"24px\">\n",
              "    <path d=\"M0 0h24v24H0V0z\" fill=\"none\"/>\n",
              "    <path d=\"M18.56 5.44l.94 2.06.94-2.06 2.06-.94-2.06-.94-.94-2.06-.94 2.06-2.06.94zm-11 1L8.5 8.5l.94-2.06 2.06-.94-2.06-.94L8.5 2.5l-.94 2.06-2.06.94zm10 10l.94 2.06.94-2.06 2.06-.94-2.06-.94-.94-2.06-.94 2.06-2.06.94z\"/><path d=\"M17.41 7.96l-1.37-1.37c-.4-.4-.92-.59-1.43-.59-.52 0-1.04.2-1.43.59L10.3 9.45l-7.72 7.72c-.78.78-.78 2.05 0 2.83L4 21.41c.39.39.9.59 1.41.59.51 0 1.02-.2 1.41-.59l7.78-7.78 2.81-2.81c.8-.78.8-2.07 0-2.86zM5.41 20L4 18.59l7.72-7.72 1.47 1.35L5.41 20z\"/>\n",
              "  </svg>\n",
              "      </button>\n",
              "      \n",
              "  <style>\n",
              "    .colab-df-container {\n",
              "      display:flex;\n",
              "      flex-wrap:wrap;\n",
              "      gap: 12px;\n",
              "    }\n",
              "\n",
              "    .colab-df-convert {\n",
              "      background-color: #E8F0FE;\n",
              "      border: none;\n",
              "      border-radius: 50%;\n",
              "      cursor: pointer;\n",
              "      display: none;\n",
              "      fill: #1967D2;\n",
              "      height: 32px;\n",
              "      padding: 0 0 0 0;\n",
              "      width: 32px;\n",
              "    }\n",
              "\n",
              "    .colab-df-convert:hover {\n",
              "      background-color: #E2EBFA;\n",
              "      box-shadow: 0px 1px 2px rgba(60, 64, 67, 0.3), 0px 1px 3px 1px rgba(60, 64, 67, 0.15);\n",
              "      fill: #174EA6;\n",
              "    }\n",
              "\n",
              "    [theme=dark] .colab-df-convert {\n",
              "      background-color: #3B4455;\n",
              "      fill: #D2E3FC;\n",
              "    }\n",
              "\n",
              "    [theme=dark] .colab-df-convert:hover {\n",
              "      background-color: #434B5C;\n",
              "      box-shadow: 0px 1px 3px 1px rgba(0, 0, 0, 0.15);\n",
              "      filter: drop-shadow(0px 1px 2px rgba(0, 0, 0, 0.3));\n",
              "      fill: #FFFFFF;\n",
              "    }\n",
              "  </style>\n",
              "\n",
              "      <script>\n",
              "        const buttonEl =\n",
              "          document.querySelector('#df-ee0c2807-880b-4aab-9b79-785af8868829 button.colab-df-convert');\n",
              "        buttonEl.style.display =\n",
              "          google.colab.kernel.accessAllowed ? 'block' : 'none';\n",
              "\n",
              "        async function convertToInteractive(key) {\n",
              "          const element = document.querySelector('#df-ee0c2807-880b-4aab-9b79-785af8868829');\n",
              "          const dataTable =\n",
              "            await google.colab.kernel.invokeFunction('convertToInteractive',\n",
              "                                                     [key], {});\n",
              "          if (!dataTable) return;\n",
              "\n",
              "          const docLinkHtml = 'Like what you see? Visit the ' +\n",
              "            '<a target=\"_blank\" href=https://colab.research.google.com/notebooks/data_table.ipynb>data table notebook</a>'\n",
              "            + ' to learn more about interactive tables.';\n",
              "          element.innerHTML = '';\n",
              "          dataTable['output_type'] = 'display_data';\n",
              "          await google.colab.output.renderOutput(dataTable, element);\n",
              "          const docLink = document.createElement('div');\n",
              "          docLink.innerHTML = docLinkHtml;\n",
              "          element.appendChild(docLink);\n",
              "        }\n",
              "      </script>\n",
              "    </div>\n",
              "  </div>\n",
              "  "
            ]
          },
          "metadata": {},
          "execution_count": 90
        }
      ]
    },
    {
      "cell_type": "code",
      "source": [
        "findingmin(df, 'course_rating', '<3.5')[['course_title', 'course_rating']].sort_values('course_rating')"
      ],
      "metadata": {
        "colab": {
          "base_uri": "https://localhost:8080/",
          "height": 81
        },
        "id": "9oBjQtzgU-YQ",
        "outputId": "ad200999-0869-4062-d6f8-3a54e3a7fb77"
      },
      "execution_count": 95,
      "outputs": [
        {
          "output_type": "execute_result",
          "data": {
            "text/plain": [
              "                                          course_title  course_rating\n",
              "413  How To Create a Website in a Weekend! (Project...            3.3"
            ],
            "text/html": [
              "\n",
              "  <div id=\"df-43f07836-b72e-4759-a8e1-3b05627f630e\">\n",
              "    <div class=\"colab-df-container\">\n",
              "      <div>\n",
              "<style scoped>\n",
              "    .dataframe tbody tr th:only-of-type {\n",
              "        vertical-align: middle;\n",
              "    }\n",
              "\n",
              "    .dataframe tbody tr th {\n",
              "        vertical-align: top;\n",
              "    }\n",
              "\n",
              "    .dataframe thead th {\n",
              "        text-align: right;\n",
              "    }\n",
              "</style>\n",
              "<table border=\"1\" class=\"dataframe\">\n",
              "  <thead>\n",
              "    <tr style=\"text-align: right;\">\n",
              "      <th></th>\n",
              "      <th>course_title</th>\n",
              "      <th>course_rating</th>\n",
              "    </tr>\n",
              "  </thead>\n",
              "  <tbody>\n",
              "    <tr>\n",
              "      <th>413</th>\n",
              "      <td>How To Create a Website in a Weekend! (Project...</td>\n",
              "      <td>3.3</td>\n",
              "    </tr>\n",
              "  </tbody>\n",
              "</table>\n",
              "</div>\n",
              "      <button class=\"colab-df-convert\" onclick=\"convertToInteractive('df-43f07836-b72e-4759-a8e1-3b05627f630e')\"\n",
              "              title=\"Convert this dataframe to an interactive table.\"\n",
              "              style=\"display:none;\">\n",
              "        \n",
              "  <svg xmlns=\"http://www.w3.org/2000/svg\" height=\"24px\"viewBox=\"0 0 24 24\"\n",
              "       width=\"24px\">\n",
              "    <path d=\"M0 0h24v24H0V0z\" fill=\"none\"/>\n",
              "    <path d=\"M18.56 5.44l.94 2.06.94-2.06 2.06-.94-2.06-.94-.94-2.06-.94 2.06-2.06.94zm-11 1L8.5 8.5l.94-2.06 2.06-.94-2.06-.94L8.5 2.5l-.94 2.06-2.06.94zm10 10l.94 2.06.94-2.06 2.06-.94-2.06-.94-.94-2.06-.94 2.06-2.06.94z\"/><path d=\"M17.41 7.96l-1.37-1.37c-.4-.4-.92-.59-1.43-.59-.52 0-1.04.2-1.43.59L10.3 9.45l-7.72 7.72c-.78.78-.78 2.05 0 2.83L4 21.41c.39.39.9.59 1.41.59.51 0 1.02-.2 1.41-.59l7.78-7.78 2.81-2.81c.8-.78.8-2.07 0-2.86zM5.41 20L4 18.59l7.72-7.72 1.47 1.35L5.41 20z\"/>\n",
              "  </svg>\n",
              "      </button>\n",
              "      \n",
              "  <style>\n",
              "    .colab-df-container {\n",
              "      display:flex;\n",
              "      flex-wrap:wrap;\n",
              "      gap: 12px;\n",
              "    }\n",
              "\n",
              "    .colab-df-convert {\n",
              "      background-color: #E8F0FE;\n",
              "      border: none;\n",
              "      border-radius: 50%;\n",
              "      cursor: pointer;\n",
              "      display: none;\n",
              "      fill: #1967D2;\n",
              "      height: 32px;\n",
              "      padding: 0 0 0 0;\n",
              "      width: 32px;\n",
              "    }\n",
              "\n",
              "    .colab-df-convert:hover {\n",
              "      background-color: #E2EBFA;\n",
              "      box-shadow: 0px 1px 2px rgba(60, 64, 67, 0.3), 0px 1px 3px 1px rgba(60, 64, 67, 0.15);\n",
              "      fill: #174EA6;\n",
              "    }\n",
              "\n",
              "    [theme=dark] .colab-df-convert {\n",
              "      background-color: #3B4455;\n",
              "      fill: #D2E3FC;\n",
              "    }\n",
              "\n",
              "    [theme=dark] .colab-df-convert:hover {\n",
              "      background-color: #434B5C;\n",
              "      box-shadow: 0px 1px 3px 1px rgba(0, 0, 0, 0.15);\n",
              "      filter: drop-shadow(0px 1px 2px rgba(0, 0, 0, 0.3));\n",
              "      fill: #FFFFFF;\n",
              "    }\n",
              "  </style>\n",
              "\n",
              "      <script>\n",
              "        const buttonEl =\n",
              "          document.querySelector('#df-43f07836-b72e-4759-a8e1-3b05627f630e button.colab-df-convert');\n",
              "        buttonEl.style.display =\n",
              "          google.colab.kernel.accessAllowed ? 'block' : 'none';\n",
              "\n",
              "        async function convertToInteractive(key) {\n",
              "          const element = document.querySelector('#df-43f07836-b72e-4759-a8e1-3b05627f630e');\n",
              "          const dataTable =\n",
              "            await google.colab.kernel.invokeFunction('convertToInteractive',\n",
              "                                                     [key], {});\n",
              "          if (!dataTable) return;\n",
              "\n",
              "          const docLinkHtml = 'Like what you see? Visit the ' +\n",
              "            '<a target=\"_blank\" href=https://colab.research.google.com/notebooks/data_table.ipynb>data table notebook</a>'\n",
              "            + ' to learn more about interactive tables.';\n",
              "          element.innerHTML = '';\n",
              "          dataTable['output_type'] = 'display_data';\n",
              "          await google.colab.output.renderOutput(dataTable, element);\n",
              "          const docLink = document.createElement('div');\n",
              "          docLink.innerHTML = docLinkHtml;\n",
              "          element.appendChild(docLink);\n",
              "        }\n",
              "      </script>\n",
              "    </div>\n",
              "  </div>\n",
              "  "
            ]
          },
          "metadata": {},
          "execution_count": 95
        }
      ]
    },
    {
      "cell_type": "markdown",
      "source": [
        "**Findings**\n",
        "\n",
        "The above analysis indicates the coursera provides quality courses and the ratings arer started with above 3\n",
        "\n",
        "\n"
      ],
      "metadata": {
        "id": "K99PxwrsaDF3"
      }
    },
    {
      "cell_type": "markdown",
      "source": [
        "**4. Conclusion:**\n",
        "\n",
        "\n",
        "\n",
        "*   Average course rating is quite higher, compared to lowest and maximum value. So, the cours quality is being maintained.\n",
        "\n",
        "*  Advanced courses' rating has some ups-and downs; maybe due to low frequency\n",
        "\n",
        "*  Beginner course has distribution quite similiar to total rating chart, as big portion of the data is from them, and he number of beginner level courses are high.\n",
        "Intermidiate course's rating top is not as sharp of others, that may say - as the participants has some knowledge on the topic, they can judge better and being critical\n",
        "\n",
        "\n",
        "*   Specializations has lower mean value than courses, but the distribution is interesting. specialization has good distribution values on right, but normal courses are on left.\n",
        "\n",
        "\n"
      ],
      "metadata": {
        "id": "j5wYsb1UmY76"
      }
    },
    {
      "cell_type": "code",
      "source": [],
      "metadata": {
        "id": "Aff4CIxBnfvP"
      },
      "execution_count": null,
      "outputs": []
    }
  ]
}